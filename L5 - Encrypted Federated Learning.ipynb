{
 "cells": [
  {
   "cell_type": "markdown",
   "metadata": {
    "colab_type": "text",
    "id": "_-9zRNvlyg8d"
   },
   "source": [
    "# Section: Securing Federated Learning\n",
    "\n",
    "- Lesson 1: Trusted Aggregator\n",
    "- Lesson 2: Intro to Additive Secret Sharing\n",
    "- Lesson 3: Intro to Fixed Precision Encoding\n",
    "- Lesson 4: Secret Sharing + Fixed Precision in PySyft\n",
    "- Final Project: Federated Learning wtih Encrypted Gradient Aggregation"
   ]
  },
  {
   "cell_type": "markdown",
   "metadata": {
    "colab_type": "text",
    "id": "KpoP5r4pyg8e"
   },
   "source": [
    "# Lesson: Federated Learning with a Trusted Aggregator\n",
    "\n",
    "In the last section, we learned how to train a model on a distributed dataset using Federated Learning. In particular, the last project aggregated gradients directly from one data owner to another. \n",
    "\n",
    "However, while in some cases it could be ideal to do this, what would be even better is to be able to choose a neutral third party to perform the aggregation.\n",
    "\n",
    "As it turns out, we can use the same tools we used previously to accomplish this."
   ]
  },
  {
   "cell_type": "markdown",
   "metadata": {
    "colab_type": "text",
    "id": "I_p_SUmJyg8f"
   },
   "source": [
    "# Project: Federated Learning with a Trusted Aggregator"
   ]
  },
  {
   "cell_type": "markdown",
   "metadata": {
    "colab_type": "text",
    "id": "co2Ce0CNyg8g"
   },
   "source": [
    "### Step 1: Create Data Owners"
   ]
  },
  {
   "cell_type": "code",
   "execution_count": 1,
   "metadata": {
    "colab": {},
    "colab_type": "code",
    "id": "uH_EmY1EysB1"
   },
   "outputs": [
    {
     "name": "stdout",
     "output_type": "stream",
     "text": [
      "Requirement already satisfied: syft in c:\\users\\kenneth\\anaconda3\\envs\\icp3\\lib\\site-packages (0.1.18)\n",
      "Requirement already satisfied: Flask in c:\\users\\kenneth\\anaconda3\\envs\\icp3\\lib\\site-packages (from syft) (1.0.3)\n",
      "Requirement already satisfied: sklearn in c:\\users\\kenneth\\anaconda3\\envs\\icp3\\lib\\site-packages (from syft) (0.0)\n",
      "Requirement already satisfied: tf-encrypted>=0.5.4 in c:\\users\\kenneth\\anaconda3\\envs\\icp3\\lib\\site-packages (from syft) (0.5.5)\n",
      "Requirement already satisfied: websockets>=7.0 in c:\\users\\kenneth\\anaconda3\\envs\\icp3\\lib\\site-packages (from syft) (7.0)\n",
      "Requirement already satisfied: lz4 in c:\\users\\kenneth\\anaconda3\\envs\\icp3\\lib\\site-packages (from syft) (2.1.10)\n",
      "Requirement already satisfied: torch>=1.1 in c:\\users\\kenneth\\anaconda3\\envs\\icp3\\lib\\site-packages (from syft) (1.1.0)\n",
      "Requirement already satisfied: zstd in c:\\users\\kenneth\\anaconda3\\envs\\icp3\\lib\\site-packages (from syft) (1.4.0.0)\n",
      "Requirement already satisfied: flask-socketio in c:\\users\\kenneth\\anaconda3\\envs\\icp3\\lib\\site-packages (from syft) (4.1.0)\n",
      "Requirement already satisfied: tblib in c:\\users\\kenneth\\anaconda3\\envs\\icp3\\lib\\site-packages (from syft) (1.4.0)\n",
      "Requirement already satisfied: msgpack in c:\\users\\kenneth\\anaconda3\\envs\\icp3\\lib\\site-packages (from syft) (0.6.1)\n",
      "Requirement already satisfied: websocket-client in c:\\users\\kenneth\\anaconda3\\envs\\icp3\\lib\\site-packages (from syft) (0.56.0)\n",
      "Requirement already satisfied: torchvision>=0.3.0 in c:\\users\\kenneth\\anaconda3\\envs\\icp3\\lib\\site-packages (from syft) (0.3.0)\n",
      "Requirement already satisfied: click>=5.1 in c:\\users\\kenneth\\anaconda3\\envs\\icp3\\lib\\site-packages (from Flask->syft) (7.0)\n",
      "Requirement already satisfied: itsdangerous>=0.24 in c:\\users\\kenneth\\anaconda3\\envs\\icp3\\lib\\site-packages (from Flask->syft) (1.1.0)\n",
      "Requirement already satisfied: Jinja2>=2.10 in c:\\users\\kenneth\\anaconda3\\envs\\icp3\\lib\\site-packages (from Flask->syft) (2.10.1)\n",
      "Requirement already satisfied: Werkzeug>=0.14 in c:\\users\\kenneth\\anaconda3\\envs\\icp3\\lib\\site-packages (from Flask->syft) (0.15.4)\n",
      "Requirement already satisfied: scikit-learn in c:\\users\\kenneth\\anaconda3\\envs\\icp3\\lib\\site-packages (from sklearn->syft) (0.21.2)\n",
      "Requirement already satisfied: tensorflow<2,>=1.12.0 in c:\\users\\kenneth\\anaconda3\\envs\\icp3\\lib\\site-packages (from tf-encrypted>=0.5.4->syft) (1.13.1)\n",
      "Requirement already satisfied: pyyaml>=5.1 in c:\\users\\kenneth\\anaconda3\\envs\\icp3\\lib\\site-packages (from tf-encrypted>=0.5.4->syft) (5.1.1)\n",
      "Requirement already satisfied: numpy>=1.14.0 in c:\\users\\kenneth\\anaconda3\\envs\\icp3\\lib\\site-packages (from tf-encrypted>=0.5.4->syft) (1.16.4)\n",
      "Requirement already satisfied: python-socketio>=2.1.0 in c:\\users\\kenneth\\anaconda3\\envs\\icp3\\lib\\site-packages (from flask-socketio->syft) (4.1.0)\n",
      "Requirement already satisfied: six in c:\\users\\kenneth\\anaconda3\\envs\\icp3\\lib\\site-packages (from websocket-client->syft) (1.12.0)\n",
      "Requirement already satisfied: pillow>=4.1.1 in c:\\users\\kenneth\\anaconda3\\envs\\icp3\\lib\\site-packages (from torchvision>=0.3.0->syft) (6.0.0)\n",
      "Requirement already satisfied: MarkupSafe>=0.23 in c:\\users\\kenneth\\anaconda3\\envs\\icp3\\lib\\site-packages (from Jinja2>=2.10->Flask->syft) (1.1.1)\n",
      "Requirement already satisfied: scipy>=0.17.0 in c:\\users\\kenneth\\anaconda3\\envs\\icp3\\lib\\site-packages (from scikit-learn->sklearn->syft) (1.3.0)\n",
      "Requirement already satisfied: joblib>=0.11 in c:\\users\\kenneth\\anaconda3\\envs\\icp3\\lib\\site-packages (from scikit-learn->sklearn->syft) (0.13.2)\n",
      "Requirement already satisfied: keras-preprocessing>=1.0.5 in c:\\users\\kenneth\\anaconda3\\envs\\icp3\\lib\\site-packages (from tensorflow<2,>=1.12.0->tf-encrypted>=0.5.4->syft) (1.1.0)\n",
      "Requirement already satisfied: protobuf>=3.6.1 in c:\\users\\kenneth\\anaconda3\\envs\\icp3\\lib\\site-packages (from tensorflow<2,>=1.12.0->tf-encrypted>=0.5.4->syft) (3.8.0)\n",
      "Requirement already satisfied: tensorflow-estimator<1.14.0rc0,>=1.13.0 in c:\\users\\kenneth\\anaconda3\\envs\\icp3\\lib\\site-packages (from tensorflow<2,>=1.12.0->tf-encrypted>=0.5.4->syft) (1.13.0)\n",
      "Requirement already satisfied: keras-applications>=1.0.6 in c:\\users\\kenneth\\anaconda3\\envs\\icp3\\lib\\site-packages (from tensorflow<2,>=1.12.0->tf-encrypted>=0.5.4->syft) (1.0.8)\n",
      "Requirement already satisfied: termcolor>=1.1.0 in c:\\users\\kenneth\\anaconda3\\envs\\icp3\\lib\\site-packages (from tensorflow<2,>=1.12.0->tf-encrypted>=0.5.4->syft) (1.1.0)\n",
      "Requirement already satisfied: grpcio>=1.8.6 in c:\\users\\kenneth\\anaconda3\\envs\\icp3\\lib\\site-packages (from tensorflow<2,>=1.12.0->tf-encrypted>=0.5.4->syft) (1.21.1)\n",
      "Requirement already satisfied: gast>=0.2.0 in c:\\users\\kenneth\\anaconda3\\envs\\icp3\\lib\\site-packages (from tensorflow<2,>=1.12.0->tf-encrypted>=0.5.4->syft) (0.2.2)\n",
      "Requirement already satisfied: tensorboard<1.14.0,>=1.13.0 in c:\\users\\kenneth\\anaconda3\\envs\\icp3\\lib\\site-packages (from tensorflow<2,>=1.12.0->tf-encrypted>=0.5.4->syft) (1.13.1)\n",
      "Requirement already satisfied: wheel>=0.26 in c:\\users\\kenneth\\anaconda3\\envs\\icp3\\lib\\site-packages (from tensorflow<2,>=1.12.0->tf-encrypted>=0.5.4->syft) (0.33.4)\n",
      "Requirement already satisfied: astor>=0.6.0 in c:\\users\\kenneth\\anaconda3\\envs\\icp3\\lib\\site-packages (from tensorflow<2,>=1.12.0->tf-encrypted>=0.5.4->syft) (0.8.0)\n",
      "Requirement already satisfied: absl-py>=0.1.6 in c:\\users\\kenneth\\anaconda3\\envs\\icp3\\lib\\site-packages (from tensorflow<2,>=1.12.0->tf-encrypted>=0.5.4->syft) (0.7.1)\n",
      "Requirement already satisfied: python-engineio>=3.8.0 in c:\\users\\kenneth\\anaconda3\\envs\\icp3\\lib\\site-packages (from python-socketio>=2.1.0->flask-socketio->syft) (3.8.1)\n",
      "Requirement already satisfied: setuptools in c:\\users\\kenneth\\anaconda3\\envs\\icp3\\lib\\site-packages (from protobuf>=3.6.1->tensorflow<2,>=1.12.0->tf-encrypted>=0.5.4->syft) (41.0.1)\n",
      "Requirement already satisfied: mock>=2.0.0 in c:\\users\\kenneth\\anaconda3\\envs\\icp3\\lib\\site-packages (from tensorflow-estimator<1.14.0rc0,>=1.13.0->tensorflow<2,>=1.12.0->tf-encrypted>=0.5.4->syft) (3.0.5)\n",
      "Requirement already satisfied: h5py in c:\\users\\kenneth\\anaconda3\\envs\\icp3\\lib\\site-packages (from keras-applications>=1.0.6->tensorflow<2,>=1.12.0->tf-encrypted>=0.5.4->syft) (2.9.0)\n",
      "Requirement already satisfied: markdown>=2.6.8 in c:\\users\\kenneth\\anaconda3\\envs\\icp3\\lib\\site-packages (from tensorboard<1.14.0,>=1.13.0->tensorflow<2,>=1.12.0->tf-encrypted>=0.5.4->syft) (3.1.1)\n"
     ]
    }
   ],
   "source": [
    "!pip install syft"
   ]
  },
  {
   "cell_type": "code",
   "execution_count": 1,
   "metadata": {
    "colab": {
     "base_uri": "https://localhost:8080/",
     "height": 107
    },
    "colab_type": "code",
    "executionInfo": {
     "elapsed": 2732,
     "status": "ok",
     "timestamp": 1562694606812,
     "user": {
      "displayName": "Gharib Gharibi",
      "photoUrl": "https://lh3.googleusercontent.com/-jKnQDkmhZKk/AAAAAAAAAAI/AAAAAAAAAPw/6ddzRde_d0Q/s64/photo.jpg",
      "userId": "12269101840630561007"
     },
     "user_tz": 300
    },
    "id": "KKg8RQSqyg8g",
    "outputId": "d6a4c256-3468-4b1d-8fb3-afe8a3afa254"
   },
   "outputs": [
    {
     "name": "stderr",
     "output_type": "stream",
     "text": [
      "WARNING:tf_encrypted:Falling back to insecure randomness since the required custom op could not be found for the installed version of TensorFlow (1.13.1). Fix this by compiling custom ops.\n"
     ]
    }
   ],
   "source": [
    "import syft as sy\n",
    "import torch as th\n",
    "from torch import nn, optim\n",
    "\n",
    "hook = sy.TorchHook(th)"
   ]
  },
  {
   "cell_type": "code",
   "execution_count": 2,
   "metadata": {
    "colab": {
     "base_uri": "https://localhost:8080/",
     "height": 159
    },
    "colab_type": "code",
    "executionInfo": {
     "elapsed": 220,
     "status": "ok",
     "timestamp": 1562694609500,
     "user": {
      "displayName": "Gharib Gharibi",
      "photoUrl": "https://lh3.googleusercontent.com/-jKnQDkmhZKk/AAAAAAAAAAI/AAAAAAAAAPw/6ddzRde_d0Q/s64/photo.jpg",
      "userId": "12269101840630561007"
     },
     "user_tz": 300
    },
    "id": "brR-QwtByovp",
    "outputId": "e29801f6-8e6e-4c12-a06d-1a28cf1d4e0b"
   },
   "outputs": [
    {
     "name": "stderr",
     "output_type": "stream",
     "text": [
      "WARNING:syft.workers.base:Worker alice already exists. Replacing old worker which could cause                     unexpected behavior\n",
      "WARNING:syft.workers.base:Worker secure_worker already exists. Replacing old worker which could cause                     unexpected behavior\n",
      "WARNING:syft.workers.base:Worker bob already exists. Replacing old worker which could cause                     unexpected behavior\n",
      "WARNING:syft.workers.base:Worker secure_worker already exists. Replacing old worker which could cause                     unexpected behavior\n",
      "WARNING:syft.workers.base:Worker alice already exists. Replacing old worker which could cause                     unexpected behavior\n",
      "WARNING:syft.workers.base:Worker bob already exists. Replacing old worker which could cause                     unexpected behavior\n"
     ]
    },
    {
     "data": {
      "text/plain": [
       "<VirtualWorker id:secure_worker #objects:0>"
      ]
     },
     "execution_count": 2,
     "metadata": {},
     "output_type": "execute_result"
    }
   ],
   "source": [
    "# create a couple workers\n",
    "\n",
    "bob = sy.VirtualWorker(hook, id=\"bob\")\n",
    "alice = sy.VirtualWorker(hook, id=\"alice\")\n",
    "secure_worker = sy.VirtualWorker(hook, id=\"secure_worker\")\n",
    "\n",
    "# this step is important in the real-world application.\n",
    "# You need to inform the workers of others existance\n",
    "# you will probably have an ssh or http worker, not a virtual worker.\n",
    "\n",
    "bob.add_workers([alice, secure_worker])\n",
    "alice.add_workers([bob, secure_worker])\n",
    "secure_worker.add_workers([alice, bob])"
   ]
  },
  {
   "cell_type": "code",
   "execution_count": 3,
   "metadata": {
    "colab": {},
    "colab_type": "code",
    "id": "IZ-yj1iEy-0S"
   },
   "outputs": [],
   "source": [
    "# A Toy Dataset\n",
    "data = th.tensor([[0,0],[0,1],[1,0],[1,1.]], requires_grad=True)\n",
    "target = th.tensor([[0],[0],[1],[1.]], requires_grad=True)\n",
    "\n",
    "# get pointers to training data on each worker by\n",
    "# sending some training data to bob and alice\n",
    "bobs_data = data[0:2].send(bob)\n",
    "bobs_target = target[0:2].send(bob)\n",
    "\n",
    "alices_data = data[2:].send(alice)\n",
    "alices_target = target[2:].send(alice)\n"
   ]
  },
  {
   "cell_type": "markdown",
   "metadata": {
    "colab_type": "text",
    "id": "zPinzIzsyg8l"
   },
   "source": [
    "### Step 2: Create the Model"
   ]
  },
  {
   "cell_type": "code",
   "execution_count": 4,
   "metadata": {
    "colab": {},
    "colab_type": "code",
    "id": "GuQKR-Ckyg8m"
   },
   "outputs": [],
   "source": [
    "# Iniitalize A Toy Model\n",
    "model = nn.Linear(2,1)"
   ]
  },
  {
   "cell_type": "markdown",
   "metadata": {
    "colab_type": "text",
    "id": "K1Jy5Iukyg8o"
   },
   "source": [
    "### Step 3: Send a Copy of The Model to Alice and Bob"
   ]
  },
  {
   "cell_type": "code",
   "execution_count": 5,
   "metadata": {
    "colab": {},
    "colab_type": "code",
    "id": "7bG1JWYzyg8o"
   },
   "outputs": [],
   "source": [
    "bobs_model = model.copy().send(bob) \n",
    "alices_model = model.copy().send(alice) \n",
    "\n",
    "bobs_opt = optim.SGD(params=bobs_model.parameters(), lr=0.1)\n",
    "alices_opt = optim.SGD(params=alices_model.parameters(), lr=0.1)\n"
   ]
  },
  {
   "cell_type": "markdown",
   "metadata": {
    "colab_type": "text",
    "id": "Mdjyo1Gkyg8q"
   },
   "source": [
    "### Step 4: Train Bob's and Alice's Models (in parallel)"
   ]
  },
  {
   "cell_type": "code",
   "execution_count": 6,
   "metadata": {
    "colab": {},
    "colab_type": "code",
    "id": "KmtzmlcDyg8r"
   },
   "outputs": [
    {
     "name": "stdout",
     "output_type": "stream",
     "text": [
      "Bob loss 0.3030942380428314\n",
      "alice loss 1.9678738117218018\n",
      "Bob loss 0.179348424077034\n",
      "alice loss 0.5936195850372314\n",
      "Bob loss 0.11085241287946701\n",
      "alice loss 0.18616658449172974\n",
      "Bob loss 0.07254348695278168\n",
      "alice loss 0.06474684923887253\n",
      "Bob loss 0.0507582351565361\n",
      "alice loss 0.028004225343465805\n",
      "Bob loss 0.038045432418584824\n",
      "alice loss 0.016377579420804977\n",
      "Bob loss 0.0303395576775074\n",
      "alice loss 0.01224452629685402\n",
      "Bob loss 0.025420445948839188\n",
      "alice loss 0.010387379676103592\n",
      "Bob loss 0.022073887288570404\n",
      "alice loss 0.009257806465029716\n",
      "Bob loss 0.01963416486978531\n",
      "alice loss 0.008393200114369392\n"
     ]
    }
   ],
   "source": [
    "for i in range(10):\n",
    "\n",
    "    # Train Bob's Model\n",
    "    bobs_opt.zero_grad()\n",
    "    bobs_pred = bobs_model(bobs_data)\n",
    "    bobs_loss = ((bobs_pred - bobs_target)**2).mean()\n",
    "    bobs_loss.backward()\n",
    "\n",
    "    bobs_opt.step()\n",
    "    bobs_loss = bobs_loss.get().data\n",
    "    print(f'Bob loss {bobs_loss}')\n",
    "\n",
    "    # Train Alice's Model\n",
    "    alices_opt.zero_grad()\n",
    "    alices_pred = alices_model(alices_data)\n",
    "    alices_loss = ((alices_pred - alices_target)**2).mean()\n",
    "    alices_loss.backward()\n",
    "\n",
    "    alices_opt.step()\n",
    "    alices_loss = alices_loss.get().data\n",
    "    print(f'alice loss {alices_loss}')\n"
   ]
  },
  {
   "cell_type": "markdown",
   "metadata": {
    "colab_type": "text",
    "id": "HT6cy1gMyg8s"
   },
   "source": [
    "### Step 5: Send Both Updated Models to a Secure Worker"
   ]
  },
  {
   "cell_type": "code",
   "execution_count": 7,
   "metadata": {
    "colab": {},
    "colab_type": "code",
    "id": "3S2qpEoZyg8t"
   },
   "outputs": [],
   "source": [
    "alices_model.move(secure_worker) # the move function iterates on all objects in alice and call send on it. NOTEICE: inline function\n",
    "bobs_model.move(secure_worker)\n"
   ]
  },
  {
   "cell_type": "code",
   "execution_count": 8,
   "metadata": {
    "colab": {
     "base_uri": "https://localhost:8080/",
     "height": 156
    },
    "colab_type": "code",
    "executionInfo": {
     "elapsed": 229,
     "status": "ok",
     "timestamp": 1562694637709,
     "user": {
      "displayName": "Gharib Gharibi",
      "photoUrl": "https://lh3.googleusercontent.com/-jKnQDkmhZKk/AAAAAAAAAAI/AAAAAAAAAPw/6ddzRde_d0Q/s64/photo.jpg",
      "userId": "12269101840630561007"
     },
     "user_tz": 300
    },
    "id": "xEZZbRDx28Kw",
    "outputId": "ccf05d4a-fe3b-4b05-f620-a7102f4d7602"
   },
   "outputs": [
    {
     "data": {
      "text/plain": [
       "{55418974901: Parameter containing:\n",
       " tensor([[ 0.6670, -0.1743]], requires_grad=True),\n",
       " 10448677324: Parameter containing:\n",
       " tensor([0.4277], requires_grad=True),\n",
       " 84106636451: Parameter containing:\n",
       " tensor([[ 0.0884, -0.2661]], requires_grad=True),\n",
       " 16665178699: Parameter containing:\n",
       " tensor([0.1390], requires_grad=True)}"
      ]
     },
     "execution_count": 8,
     "metadata": {},
     "output_type": "execute_result"
    }
   ],
   "source": [
    "secure_worker._objects # can you identify those objects in the Secure worker?"
   ]
  },
  {
   "cell_type": "markdown",
   "metadata": {
    "colab_type": "text",
    "id": "tO9s8TmOyg8v"
   },
   "source": [
    "### Step 6: Average The Models"
   ]
  },
  {
   "cell_type": "code",
   "execution_count": 9,
   "metadata": {
    "colab": {
     "base_uri": "https://localhost:8080/",
     "height": 35
    },
    "colab_type": "code",
    "executionInfo": {
     "elapsed": 362,
     "status": "ok",
     "timestamp": 1562695132035,
     "user": {
      "displayName": "Gharib Gharibi",
      "photoUrl": "https://lh3.googleusercontent.com/-jKnQDkmhZKk/AAAAAAAAAAI/AAAAAAAAAPw/6ddzRde_d0Q/s64/photo.jpg",
      "userId": "12269101840630561007"
     },
     "user_tz": 300
    },
    "id": "0RPMqJTB3wlE",
    "outputId": "2ad03a8f-b172-4c77-9e6d-5d370318d1a0"
   },
   "outputs": [
    {
     "data": {
      "text/plain": [
       "tensor([0.2833])"
      ]
     },
     "execution_count": 9,
     "metadata": {},
     "output_type": "execute_result"
    }
   ],
   "source": [
    "# A pytorch trick: to set the weights: you have to either access the data[idx] \n",
    "# or wrap the set function with (with torch.no_grad():)\n",
    "# below we illustrate the first way\n",
    "# the next cell demonstrates the complete way:\n",
    "\n",
    "model.weight.data[0].set_(((alices_model.weight.data + bobs_model.weight.data) / 2).get())\n",
    "model.bias.data[0].set_(((alices_model.bias.data + bobs_model.bias.data) / 2).get())"
   ]
  },
  {
   "cell_type": "markdown",
   "metadata": {
    "colab_type": "text",
    "id": "fCLNoxd3yg8y"
   },
   "source": [
    "### Step 7: The complete solution over multiple training sessions"
   ]
  },
  {
   "cell_type": "code",
   "execution_count": 10,
   "metadata": {
    "colab": {
     "base_uri": "https://localhost:8080/",
     "height": 191
    },
    "colab_type": "code",
    "executionInfo": {
     "elapsed": 859,
     "status": "ok",
     "timestamp": 1562695204722,
     "user": {
      "displayName": "Gharib Gharibi",
      "photoUrl": "https://lh3.googleusercontent.com/-jKnQDkmhZKk/AAAAAAAAAAI/AAAAAAAAAPw/6ddzRde_d0Q/s64/photo.jpg",
      "userId": "12269101840630561007"
     },
     "user_tz": 300
    },
    "id": "WUV-_tW2yg80",
    "outputId": "3bc85f4d-a40c-4883-caea-38bbfc24d23e"
   },
   "outputs": [
    {
     "name": "stdout",
     "output_type": "stream",
     "text": [
      "Bob:tensor(0.0409) Alice:tensor(0.0180)\n",
      "Bob:tensor(0.0227) Alice:tensor(0.0027)\n",
      "Bob:tensor(0.0144) Alice:tensor(0.0007)\n",
      "Bob:tensor(0.0095) Alice:tensor(0.0002)\n",
      "Bob:tensor(0.0065) Alice:tensor(5.0212e-05)\n",
      "Bob:tensor(0.0045) Alice:tensor(6.9123e-06)\n",
      "Bob:tensor(0.0032) Alice:tensor(2.2666e-09)\n",
      "Bob:tensor(0.0023) Alice:tensor(2.5128e-06)\n",
      "Bob:tensor(0.0017) Alice:tensor(5.7918e-06)\n",
      "Bob:tensor(0.0013) Alice:tensor(7.7244e-06)\n"
     ]
    }
   ],
   "source": [
    "iterations = 10\n",
    "worker_iters = 5\n",
    "\n",
    "for a_iter in range(iterations):\n",
    "\n",
    "    bobs_model = model.copy().send(bob)\n",
    "    alices_model = model.copy().send(alice)\n",
    "\n",
    "    bobs_opt = optim.SGD(params=bobs_model.parameters(), lr=0.1)\n",
    "    alices_opt = optim.SGD(params=alices_model.parameters(), lr=0.1)\n",
    "\n",
    "    for wi in range(worker_iters):\n",
    "        # Train Bob's Model\n",
    "        bobs_opt.zero_grad()\n",
    "        bobs_pred = bobs_model(bobs_data)\n",
    "        bobs_loss = ((bobs_pred - bobs_target) ** 2).sum()\n",
    "        bobs_loss.backward()\n",
    "\n",
    "        bobs_opt.step()\n",
    "        bobs_loss = bobs_loss.get().data\n",
    "\n",
    "        # Train Alice's Model\n",
    "        alices_opt.zero_grad()\n",
    "        alices_pred = alices_model(alices_data)\n",
    "        alices_loss = ((alices_pred - alices_target) ** 2).sum()\n",
    "        alices_loss.backward()\n",
    "\n",
    "        alices_opt.step()\n",
    "        alices_loss = alices_loss.get().data\n",
    "\n",
    "    alices_model.move(secure_worker)\n",
    "    bobs_model.move(secure_worker)\n",
    "\n",
    "    with th.no_grad():\n",
    "\n",
    "        model.weight.set_(((alices_model.weight.data + bobs_model.weight.data) / 2).get())\n",
    "        model.bias.set_(((alices_model.bias.data + bobs_model.bias.data) / 2).get())\n",
    "    \n",
    "    print(\"Bob:\" + str(bobs_loss) + \" Alice:\" + str(alices_loss))"
   ]
  },
  {
   "cell_type": "code",
   "execution_count": 11,
   "metadata": {
    "colab": {},
    "colab_type": "code",
    "id": "11abe6ojyg84"
   },
   "outputs": [],
   "source": [
    "preds = model(data)\n",
    "loss = ((preds - target) ** 2).mean()"
   ]
  },
  {
   "cell_type": "code",
   "execution_count": 12,
   "metadata": {
    "colab": {
     "base_uri": "https://localhost:8080/",
     "height": 173
    },
    "colab_type": "code",
    "executionInfo": {
     "elapsed": 234,
     "status": "ok",
     "timestamp": 1562695244548,
     "user": {
      "displayName": "Gharib Gharibi",
      "photoUrl": "https://lh3.googleusercontent.com/-jKnQDkmhZKk/AAAAAAAAAAI/AAAAAAAAAPw/6ddzRde_d0Q/s64/photo.jpg",
      "userId": "12269101840630561007"
     },
     "user_tz": 300
    },
    "id": "u0hsXnTNyg87",
    "outputId": "18061af4-6144-4b10-c65b-b7c6d9c49e78"
   },
   "outputs": [
    {
     "name": "stdout",
     "output_type": "stream",
     "text": [
      "tensor([[0.0963],\n",
      "        [0.0762],\n",
      "        [0.9045],\n",
      "        [0.8845]], grad_fn=<AddmmBackward>)\n",
      "tensor([[0.],\n",
      "        [0.],\n",
      "        [1.],\n",
      "        [1.]], requires_grad=True)\n",
      "tensor(0.0094)\n"
     ]
    }
   ],
   "source": [
    "print(preds)\n",
    "print(target)\n",
    "print(loss.data)"
   ]
  },
  {
   "cell_type": "markdown",
   "metadata": {
    "colab_type": "text",
    "id": "76nNRwAIyg89"
   },
   "source": [
    "# Lesson: Intro to Additive Secret Sharing\n",
    "\n",
    "While being able to have a trusted third party to perform the aggregation is certainly nice, in an ideal setting we wouldn't have to trust anyone at all. This is where Cryptography can provide an interesting alterantive. \n",
    "\n",
    "Specifically, we're going to be looking at a simple protocol for Secure Multi-Party Computation called Additive Secret Sharing. This protocol will allow multiple parties (of size 3 or more) to aggregate their gradients without the use of a trusted 3rd party to perform the aggregation. In other words, we can add 3 numbers together from 3 different people without anyone ever learning the inputs of any other actors.\n",
    "\n",
    "Let's start by considering the number 5, which we'll put into a varible x"
   ]
  },
  {
   "cell_type": "code",
   "execution_count": 13,
   "metadata": {
    "colab": {},
    "colab_type": "code",
    "id": "AgBkWPGQyg89"
   },
   "outputs": [],
   "source": [
    "x = 5"
   ]
  },
  {
   "cell_type": "markdown",
   "metadata": {
    "colab_type": "text",
    "id": "jmmK50kzyg8_"
   },
   "source": [
    "Let's say we wanted to SHARE the ownership of this number between two people, Alice and Bob. We could split this number into two shares, 2, and 3, and give one to Alice and one to Bob"
   ]
  },
  {
   "cell_type": "code",
   "execution_count": 14,
   "metadata": {
    "colab": {
     "base_uri": "https://localhost:8080/",
     "height": 35
    },
    "colab_type": "code",
    "executionInfo": {
     "elapsed": 318,
     "status": "ok",
     "timestamp": 1562697561751,
     "user": {
      "displayName": "Gharib Gharibi",
      "photoUrl": "https://lh3.googleusercontent.com/-jKnQDkmhZKk/AAAAAAAAAAI/AAAAAAAAAPw/6ddzRde_d0Q/s64/photo.jpg",
      "userId": "12269101840630561007"
     },
     "user_tz": 300
    },
    "id": "T8g8BuYuyg8_",
    "outputId": "1c1d2ac3-c689-45e5-db5f-f7805beca661"
   },
   "outputs": [
    {
     "data": {
      "text/plain": [
       "5"
      ]
     },
     "execution_count": 14,
     "metadata": {},
     "output_type": "execute_result"
    }
   ],
   "source": [
    "bob_x_share = 2\n",
    "alice_x_share = 3\n",
    "\n",
    "decrypted_x = bob_x_share + alice_x_share\n",
    "decrypted_x"
   ]
  },
  {
   "cell_type": "markdown",
   "metadata": {
    "colab_type": "text",
    "id": "kQgRH61vyg9C"
   },
   "source": [
    "Note that neither Bob nor Alice know the value of x. They only know the value of their own SHARE of x. Thus, the true value of X is hidden (i.e., encrypted). \n",
    "\n",
    "The truly amazing thing, however, is that Alice and Bob can still compute using this value! They can perform arithmetic over the hidden value! Let's say Bob and Alice wanted to multiply this value by 2! If each of them multiplied their respective share by 2, then the hidden number between them is also multiplied! Check it out!"
   ]
  },
  {
   "cell_type": "code",
   "execution_count": 15,
   "metadata": {
    "colab": {
     "base_uri": "https://localhost:8080/",
     "height": 35
    },
    "colab_type": "code",
    "executionInfo": {
     "elapsed": 266,
     "status": "ok",
     "timestamp": 1562697563059,
     "user": {
      "displayName": "Gharib Gharibi",
      "photoUrl": "https://lh3.googleusercontent.com/-jKnQDkmhZKk/AAAAAAAAAAI/AAAAAAAAAPw/6ddzRde_d0Q/s64/photo.jpg",
      "userId": "12269101840630561007"
     },
     "user_tz": 300
    },
    "id": "q8dFgnKqyg9C",
    "outputId": "07d9cc99-95a0-49df-938a-9984402f2fa3"
   },
   "outputs": [
    {
     "data": {
      "text/plain": [
       "10"
      ]
     },
     "execution_count": 15,
     "metadata": {},
     "output_type": "execute_result"
    }
   ],
   "source": [
    "bob_x_share *= 2\n",
    "alice_x_share *= 2\n",
    "\n",
    "decrypted_x = bob_x_share + alice_x_share\n",
    "decrypted_x"
   ]
  },
  {
   "cell_type": "markdown",
   "metadata": {
    "colab_type": "text",
    "id": "z3yKEyfuyg9M"
   },
   "source": [
    "This even works for addition between two shared values!!"
   ]
  },
  {
   "cell_type": "code",
   "execution_count": 16,
   "metadata": {
    "colab": {
     "base_uri": "https://localhost:8080/",
     "height": 35
    },
    "colab_type": "code",
    "executionInfo": {
     "elapsed": 331,
     "status": "ok",
     "timestamp": 1562697584867,
     "user": {
      "displayName": "Gharib Gharibi",
      "photoUrl": "https://lh3.googleusercontent.com/-jKnQDkmhZKk/AAAAAAAAAAI/AAAAAAAAAPw/6ddzRde_d0Q/s64/photo.jpg",
      "userId": "12269101840630561007"
     },
     "user_tz": 300
    },
    "id": "XNeUyPpmyg9N",
    "outputId": "15eac026-d603-4a82-9743-476456d267df"
   },
   "outputs": [
    {
     "data": {
      "text/plain": [
       "12"
      ]
     },
     "execution_count": 16,
     "metadata": {},
     "output_type": "execute_result"
    }
   ],
   "source": [
    "# encrypted \"5\"\n",
    "bob_x_share = 2\n",
    "alice_x_share = 3\n",
    "\n",
    "# encrypted \"7\"\n",
    "bob_y_share = 5\n",
    "alice_y_share = 2\n",
    "\n",
    "# encrypted 5 + 7\n",
    "bob_z_share = bob_x_share + bob_y_share\n",
    "alice_z_share = alice_x_share + alice_y_share\n",
    "\n",
    "decrypted_z = bob_z_share + alice_z_share\n",
    "decrypted_z"
   ]
  },
  {
   "cell_type": "markdown",
   "metadata": {
    "colab_type": "text",
    "id": "bTYo-67Cyg9R"
   },
   "source": [
    "As you can see, we just added two numbers together while they were still encrypted ( you are the dealer, thus still can see --and know everything-- but Alice and Bob did not really know anything about the overall deal --the sum of the numbers; the secrete--)\n",
    "\n",
    "In this case, however, to keep the secrete is not about the relaiability / integrity of the person who holds it, rather the fact that those shareholders do not know each other!!!\n",
    "\n",
    "One small tweak - notice that since all our numbers are positive, it's possible for each share to reveal a little bit of information about the hidden value, namely, it's always greater than the share. Thus, if Bob has a share \"3\" then he knows that the encrypted value is at least 3.\n",
    "\n",
    "This would be quite bad, but can be solved through a simple fix. Decryption happens by summing all the shares together MODULUS some constant."
   ]
  },
  {
   "cell_type": "code",
   "execution_count": 17,
   "metadata": {
    "colab": {
     "base_uri": "https://localhost:8080/",
     "height": 69
    },
    "colab_type": "code",
    "executionInfo": {
     "elapsed": 244,
     "status": "ok",
     "timestamp": 1562698326231,
     "user": {
      "displayName": "Gharib Gharibi",
      "photoUrl": "https://lh3.googleusercontent.com/-jKnQDkmhZKk/AAAAAAAAAAI/AAAAAAAAAPw/6ddzRde_d0Q/s64/photo.jpg",
      "userId": "12269101840630561007"
     },
     "user_tz": 300
    },
    "id": "_-rBg_wXyg9S",
    "outputId": "eaf18e88-b2aa-452b-dab6-73a748584172"
   },
   "outputs": [
    {
     "name": "stdout",
     "output_type": "stream",
     "text": [
      "Bob share= 1525\n",
      "Alice share= 8403\n",
      "Add both shares= 9928... Wrong secrete\n"
     ]
    }
   ],
   "source": [
    "x = 5\n",
    "\n",
    "Q = 9923 # the little fix; a very large prime number\n",
    "\n",
    "bob_x_share = 1525 # give bob a random number.. try with negatives\n",
    "\n",
    "alice_x_share = Q - bob_x_share + x\n",
    "\n",
    "print(f'Bob share= {bob_x_share}')\n",
    "print(f'Alice share= {alice_x_share}')\n",
    "print(f'Add both shares= {bob_x_share + alice_x_share}... Wrong secrete')"
   ]
  },
  {
   "cell_type": "code",
   "execution_count": 18,
   "metadata": {
    "colab": {
     "base_uri": "https://localhost:8080/",
     "height": 35
    },
    "colab_type": "code",
    "executionInfo": {
     "elapsed": 336,
     "status": "ok",
     "timestamp": 1562698330752,
     "user": {
      "displayName": "Gharib Gharibi",
      "photoUrl": "https://lh3.googleusercontent.com/-jKnQDkmhZKk/AAAAAAAAAAI/AAAAAAAAAPw/6ddzRde_d0Q/s64/photo.jpg",
      "userId": "12269101840630561007"
     },
     "user_tz": 300
    },
    "id": "bWwHr0-Cyg9W",
    "outputId": "24d59ecc-a7c2-44e3-8eda-86a4a77405b5"
   },
   "outputs": [
    {
     "data": {
      "text/plain": [
       "5"
      ]
     },
     "execution_count": 18,
     "metadata": {},
     "output_type": "execute_result"
    }
   ],
   "source": [
    "# Decryption happens by summing all the shares together MODULUS some constant\n",
    "\n",
    "(bob_x_share + alice_x_share) % Q"
   ]
  },
  {
   "cell_type": "markdown",
   "metadata": {
    "colab_type": "text",
    "id": "5HObwFt8yg9Z"
   },
   "source": [
    "So now, as you can see, both shares are wildly larger than the number being shared, meaning that individual shares no longer leak this inforation. However, all the properties we discussed earlier still hold! (addition, encryption, decryption, etc.)"
   ]
  },
  {
   "cell_type": "markdown",
   "metadata": {
    "colab_type": "text",
    "id": "OIXwf6S4yg9a"
   },
   "source": [
    "# Project: Build Methods for Encrypt, Decrypt, and Add \n",
    "\n",
    "In this project, you must take the lessons we learned in the last section and write general methods for encrypt, decrypt, and add. Store shares for a variable in a tuple like so:  `x_share = (2,5,7)`"
   ]
  },
  {
   "cell_type": "markdown",
   "metadata": {
    "colab_type": "text",
    "id": "uMz0yE45yg9c"
   },
   "source": [
    "Even though normally those shares would be distributed among several workers, you can store them in ordered tuples like this for now."
   ]
  },
  {
   "cell_type": "code",
   "execution_count": 2,
   "metadata": {
    "colab": {},
    "colab_type": "code",
    "id": "aI3TJxw4yg9d"
   },
   "outputs": [],
   "source": [
    "import random\n",
    "\n",
    "Q = 23740629843760239486723\n",
    "\n",
    "# accepts a secrete and shares it among n_shahre, returns a tuple with n_share shares\n",
    "def encrypt(x, n_share=3):\n",
    "    \n",
    "    shares = list()\n",
    "    \n",
    "    for i in range(n_share-1):\n",
    "        shares.append(random.randint(0,Q))\n",
    "        \n",
    "    shares.append(Q - (sum(shares) % Q) + x)\n",
    "    \n",
    "    return tuple(shares)\n",
    "\n",
    "  # accepts a tuple of shares and return the decrypted values\n",
    "def decrypt(shares):\n",
    "    return sum(shares) % Q"
   ]
  },
  {
   "cell_type": "code",
   "execution_count": 20,
   "metadata": {
    "colab": {
     "base_uri": "https://localhost:8080/",
     "height": 191
    },
    "colab_type": "code",
    "executionInfo": {
     "elapsed": 394,
     "status": "ok",
     "timestamp": 1562699365451,
     "user": {
      "displayName": "Gharib Gharibi",
      "photoUrl": "https://lh3.googleusercontent.com/-jKnQDkmhZKk/AAAAAAAAAAI/AAAAAAAAAPw/6ddzRde_d0Q/s64/photo.jpg",
      "userId": "12269101840630561007"
     },
     "user_tz": 300
    },
    "id": "_43oLAEDyg9e",
    "outputId": "8fca2aaa-6e24-434f-c05a-f6c2253ede92"
   },
   "outputs": [
    {
     "data": {
      "text/plain": [
       "(21413311274950407588844,\n",
       " 1088603925299232792270,\n",
       " 6099642636885892273100,\n",
       " 16337439650190108821582,\n",
       " 21961712137108077876233,\n",
       " 15205740041382640925395,\n",
       " 23588878004593626411185,\n",
       " 21437261722122835770668,\n",
       " 4998425966821140797257,\n",
       " 10312763703207473663811)"
      ]
     },
     "execution_count": 20,
     "metadata": {},
     "output_type": "execute_result"
    }
   ],
   "source": [
    "shares = encrypt(x=7, n_share=10)\n",
    "shares"
   ]
  },
  {
   "cell_type": "code",
   "execution_count": 21,
   "metadata": {
    "colab": {
     "base_uri": "https://localhost:8080/",
     "height": 35
    },
    "colab_type": "code",
    "executionInfo": {
     "elapsed": 324,
     "status": "ok",
     "timestamp": 1562699367109,
     "user": {
      "displayName": "Gharib Gharibi",
      "photoUrl": "https://lh3.googleusercontent.com/-jKnQDkmhZKk/AAAAAAAAAAI/AAAAAAAAAPw/6ddzRde_d0Q/s64/photo.jpg",
      "userId": "12269101840630561007"
     },
     "user_tz": 300
    },
    "id": "CyNaADMKyg9g",
    "outputId": "282e2286-ef29-44d5-b02c-6e9107ba249e"
   },
   "outputs": [
    {
     "data": {
      "text/plain": [
       "7"
      ]
     },
     "execution_count": 21,
     "metadata": {},
     "output_type": "execute_result"
    }
   ],
   "source": [
    "decrypt(shares)"
   ]
  },
  {
   "cell_type": "code",
   "execution_count": 3,
   "metadata": {
    "colab": {},
    "colab_type": "code",
    "id": "I9tKua0Lyg9i"
   },
   "outputs": [],
   "source": [
    "def add(a, b):\n",
    "    c = list()\n",
    "    assert(len(a) == len(b))\n",
    "    for i in range(len(a)):\n",
    "        c.append((a[i] + b[i]) % Q)\n",
    "    return tuple(c)"
   ]
  },
  {
   "cell_type": "code",
   "execution_count": 23,
   "metadata": {
    "colab": {
     "base_uri": "https://localhost:8080/",
     "height": 69
    },
    "colab_type": "code",
    "executionInfo": {
     "elapsed": 236,
     "status": "ok",
     "timestamp": 1562699612198,
     "user": {
      "displayName": "Gharib Gharibi",
      "photoUrl": "https://lh3.googleusercontent.com/-jKnQDkmhZKk/AAAAAAAAAAI/AAAAAAAAAPw/6ddzRde_d0Q/s64/photo.jpg",
      "userId": "12269101840630561007"
     },
     "user_tz": 300
    },
    "id": "gupg7bAKyg9k",
    "outputId": "7999f47c-b4ff-4dfc-862a-a89c28f6624e"
   },
   "outputs": [
    {
     "name": "stdout",
     "output_type": "stream",
     "text": [
      "(7299532592613708800135, 12228675876276737611054, 4212421374869793075539)\n",
      "(11544538949777722406489, 17633454543388988376052, 18303266194353768190912)\n"
     ]
    },
    {
     "data": {
      "text/plain": [
       "12"
      ]
     },
     "execution_count": 23,
     "metadata": {},
     "output_type": "execute_result"
    }
   ],
   "source": [
    "# run this block of code multiple times, what do you notice baout x and y?\n",
    "\n",
    "x = encrypt(5)\n",
    "print(x)\n",
    "y = encrypt(7)\n",
    "print(y)\n",
    "\n",
    "z = add(x,y)\n",
    "decrypt(z)"
   ]
  },
  {
   "cell_type": "markdown",
   "metadata": {
    "colab_type": "text",
    "id": "EmRCxZ6Nyg9m"
   },
   "source": [
    "# Lesson: Intro to Fixed Precision Encoding\n",
    "\n",
    "As you may remember, our goal is to aggregate gradients using this new Secret Sharing technique. However, the protocol we've just explored in the last section uses positive integers. However, our neural network weights are NOT integers. Instead, our weights are decimals (floating point numbers).\n",
    "\n",
    "Not a huge deal! We just need to use a fixed precision encoding, which lets us do computation over decimal numbers using integers!"
   ]
  },
  {
   "cell_type": "code",
   "execution_count": 54,
   "metadata": {
    "colab": {},
    "colab_type": "code",
    "id": "SSHHm-Oryg9m"
   },
   "outputs": [],
   "source": [
    "BASE= 10  # integer numbers (normal numbers)\n",
    "PRECISION= 4  # how many porecisions after the decimal point to encode\n",
    "Q = 23740629843760239486723 "
   ]
  },
  {
   "cell_type": "code",
   "execution_count": 4,
   "metadata": {
    "colab": {},
    "colab_type": "code",
    "id": "CL3R5pU0yg9o"
   },
   "outputs": [],
   "source": [
    "def encode(x):\n",
    "    return int((x * (BASE ** PRECISION)) % Q)\n",
    "\n",
    "def decode(x):\n",
    "    return (x if x <= Q/2 else x - Q) / BASE**PRECISION"
   ]
  },
  {
   "cell_type": "code",
   "execution_count": 56,
   "metadata": {
    "colab": {
     "base_uri": "https://localhost:8080/",
     "height": 35
    },
    "colab_type": "code",
    "executionInfo": {
     "elapsed": 321,
     "status": "ok",
     "timestamp": 1562702268800,
     "user": {
      "displayName": "Gharib Gharibi",
      "photoUrl": "https://lh3.googleusercontent.com/-jKnQDkmhZKk/AAAAAAAAAAI/AAAAAAAAAPw/6ddzRde_d0Q/s64/photo.jpg",
      "userId": "12269101840630561007"
     },
     "user_tz": 300
    },
    "id": "zwXUQeqpyg9r",
    "outputId": "2de9d33b-44d2-430a-8dbe-7c5d4389fa1c"
   },
   "outputs": [
    {
     "data": {
      "text/plain": [
       "23740629843760239345664"
      ]
     },
     "execution_count": 56,
     "metadata": {},
     "output_type": "execute_result"
    }
   ],
   "source": [
    "encode(-0.600)"
   ]
  },
  {
   "cell_type": "code",
   "execution_count": 58,
   "metadata": {
    "colab": {
     "base_uri": "https://localhost:8080/",
     "height": 35
    },
    "colab_type": "code",
    "executionInfo": {
     "elapsed": 235,
     "status": "ok",
     "timestamp": 1562702273790,
     "user": {
      "displayName": "Gharib Gharibi",
      "photoUrl": "https://lh3.googleusercontent.com/-jKnQDkmhZKk/AAAAAAAAAAI/AAAAAAAAAPw/6ddzRde_d0Q/s64/photo.jpg",
      "userId": "12269101840630561007"
     },
     "user_tz": 300
    },
    "id": "Ty3s8XYGyg9v",
    "outputId": "39f040b3-b326-4e21-c3ed-8354f743da8a"
   },
   "outputs": [
    {
     "data": {
      "text/plain": [
       "0.9323"
      ]
     },
     "execution_count": 58,
     "metadata": {},
     "output_type": "execute_result"
    }
   ],
   "source": [
    "decode(9323)"
   ]
  },
  {
   "cell_type": "code",
   "execution_count": 46,
   "metadata": {
    "colab": {
     "base_uri": "https://localhost:8080/",
     "height": 87
    },
    "colab_type": "code",
    "executionInfo": {
     "elapsed": 224,
     "status": "ok",
     "timestamp": 1562702519514,
     "user": {
      "displayName": "Gharib Gharibi",
      "photoUrl": "https://lh3.googleusercontent.com/-jKnQDkmhZKk/AAAAAAAAAAI/AAAAAAAAAPw/6ddzRde_d0Q/s64/photo.jpg",
      "userId": "12269101840630561007"
     },
     "user_tz": 300
    },
    "id": "zdFGoHbsyg9y",
    "outputId": "91ede8ab-87a2-4825-e52e-9e63e1c98af8"
   },
   "outputs": [
    {
     "name": "stdout",
     "output_type": "stream",
     "text": [
      "Value of x = (20987779365764538174036, 1953981087849393041759, 798869390146308276428)\n",
      "Value of y = (22622800424900801229373, 19829344017331777214140, 5029115245287900535433)\n",
      "Value of sum = (19869949946905099916686, 21783325105181170255899, 5827984635434208811861)\n",
      "decoded sum = 11.0\n"
     ]
    }
   ],
   "source": [
    "# run this cell multiple times and notice the changes\n",
    "\n",
    "x = encrypt(encode(5.5))\n",
    "y = encrypt(encode(5.5))\n",
    "z = add(x,y)\n",
    "\n",
    "\n",
    "print(f'Value of x = {x}')\n",
    "print(f'Value of y = {y}')\n",
    "print(f'Value of sum = {z}')\n",
    "print(f'decoded sum = {decode(decrypt(z))}')"
   ]
  },
  {
   "cell_type": "markdown",
   "metadata": {
    "colab_type": "text",
    "id": "4F5ef4l9yg91"
   },
   "source": [
    "# Lesson: Secret Sharing + Fixed Precision in PySyft\n",
    "\n",
    "While writing things from scratch is certainly educational, PySyft makes a great deal of this much easier for us through its abstractions."
   ]
  },
  {
   "cell_type": "code",
   "execution_count": 47,
   "metadata": {
    "colab": {
     "base_uri": "https://localhost:8080/",
     "height": 228
    },
    "colab_type": "code",
    "executionInfo": {
     "elapsed": 2727,
     "status": "ok",
     "timestamp": 1562703268261,
     "user": {
      "displayName": "Gharib Gharibi",
      "photoUrl": "https://lh3.googleusercontent.com/-jKnQDkmhZKk/AAAAAAAAAAI/AAAAAAAAAPw/6ddzRde_d0Q/s64/photo.jpg",
      "userId": "12269101840630561007"
     },
     "user_tz": 300
    },
    "id": "lm9L0XPDyg91",
    "outputId": "921f93f8-1407-4d1f-ed84-498bb24259eb"
   },
   "outputs": [
    {
     "name": "stderr",
     "output_type": "stream",
     "text": [
      "WARNING:root:Torch was already hooked... skipping hooking process\n",
      "WARNING:syft.workers.base:Worker alice already exists. Replacing old worker which could cause                     unexpected behavior\n",
      "WARNING:syft.workers.base:Worker secure_worker already exists. Replacing old worker which could cause                     unexpected behavior\n",
      "WARNING:syft.workers.base:Worker bob already exists. Replacing old worker which could cause                     unexpected behavior\n",
      "WARNING:syft.workers.base:Worker secure_worker already exists. Replacing old worker which could cause                     unexpected behavior\n",
      "WARNING:syft.workers.base:Worker alice already exists. Replacing old worker which could cause                     unexpected behavior\n",
      "WARNING:syft.workers.base:Worker bob already exists. Replacing old worker which could cause                     unexpected behavior\n"
     ]
    },
    {
     "data": {
      "text/plain": [
       "<VirtualWorker id:secure_worker #objects:44>"
      ]
     },
     "execution_count": 47,
     "metadata": {},
     "output_type": "execute_result"
    }
   ],
   "source": [
    "# Its a good idea to restrat the environment at this point\n",
    "\n",
    "import syft as sy\n",
    "import torch as th\n",
    "from torch import nn, optim\n",
    "\n",
    "hook = sy.TorchHook(th)\n",
    "\n",
    "# create a couple workers\n",
    "\n",
    "bob = sy.VirtualWorker(hook, id=\"bob\")\n",
    "alice = sy.VirtualWorker(hook, id=\"alice\")\n",
    "secure_worker = sy.VirtualWorker(hook, id=\"secure_worker\")\n",
    "\n",
    "\n",
    "bob.add_workers([alice, secure_worker])\n",
    "alice.add_workers([bob, secure_worker])\n",
    "secure_worker.add_workers([alice, bob])"
   ]
  },
  {
   "cell_type": "code",
   "execution_count": 48,
   "metadata": {
    "colab": {},
    "colab_type": "code",
    "id": "cCmtFQT_yg94"
   },
   "outputs": [],
   "source": [
    "x = th.tensor([1,2,3,4,5]) ##### the following steps work for integer values only"
   ]
  },
  {
   "cell_type": "markdown",
   "metadata": {
    "colab_type": "text",
    "id": "c9MtKxllyg96"
   },
   "source": [
    "### Secret Sharing Using PySyft\n",
    "\n",
    "We can share using the simple` .share()` method!"
   ]
  },
  {
   "cell_type": "code",
   "execution_count": 49,
   "metadata": {
    "colab": {
     "base_uri": "https://localhost:8080/",
     "height": 104
    },
    "colab_type": "code",
    "executionInfo": {
     "elapsed": 357,
     "status": "ok",
     "timestamp": 1562703271359,
     "user": {
      "displayName": "Gharib Gharibi",
      "photoUrl": "https://lh3.googleusercontent.com/-jKnQDkmhZKk/AAAAAAAAAAI/AAAAAAAAAPw/6ddzRde_d0Q/s64/photo.jpg",
      "userId": "12269101840630561007"
     },
     "user_tz": 300
    },
    "id": "iWPR4vZxyg97",
    "outputId": "65b5c0cc-2022-4ee1-9ab7-918791f3c207"
   },
   "outputs": [
    {
     "data": {
      "text/plain": [
       "(Wrapper)>[AdditiveSharingTensor]\n",
       "\t-> (Wrapper)>[PointerTensor | me:41676095587 -> bob:35039996605]\n",
       "\t-> (Wrapper)>[PointerTensor | me:75164760180 -> alice:26359791500]\n",
       "\t-> (Wrapper)>[PointerTensor | me:95923092632 -> secure_worker:7425582241]\n",
       "\t*crypto provider: me*"
      ]
     },
     "execution_count": 49,
     "metadata": {},
     "output_type": "execute_result"
    }
   ],
   "source": [
    "x = x.share(bob, alice, secure_worker) # implemets additive secrete shares\n",
    "x # it's a pointer to three secrete shares"
   ]
  },
  {
   "cell_type": "code",
   "execution_count": 50,
   "metadata": {
    "colab": {
     "base_uri": "https://localhost:8080/",
     "height": 52
    },
    "colab_type": "code",
    "executionInfo": {
     "elapsed": 311,
     "status": "ok",
     "timestamp": 1562703273305,
     "user": {
      "displayName": "Gharib Gharibi",
      "photoUrl": "https://lh3.googleusercontent.com/-jKnQDkmhZKk/AAAAAAAAAAI/AAAAAAAAAPw/6ddzRde_d0Q/s64/photo.jpg",
      "userId": "12269101840630561007"
     },
     "user_tz": 300
    },
    "id": "7JnJczV4yg99",
    "outputId": "8daebec8-aaeb-4ab8-9ea1-d7ae26470f99"
   },
   "outputs": [
    {
     "data": {
      "text/plain": [
       "{15375325955: tensor([[0., 0.],\n",
       "         [0., 1.]], requires_grad=True), 34924558735: tensor([[0.],\n",
       "         [0.]], requires_grad=True), 50740065398: tensor([[ 0.0335],\n",
       "         [-0.0127]], grad_fn=<AddmmBackward>), 35039996605: tensor([1511731352967876930,  591925868599571724, 4210120092563609614,\n",
       "          835677433872993700, 3223752319047256009])}"
      ]
     },
     "execution_count": 50,
     "metadata": {},
     "output_type": "execute_result"
    }
   ],
   "source": [
    "bob._objects # take a look at one of the shares.. Large random numbers --encrypted"
   ]
  },
  {
   "cell_type": "markdown",
   "metadata": {
    "colab_type": "text",
    "id": "jdqiNR6Iyg9-"
   },
   "source": [
    "and as you can see, Bob now has one of the shares of x! Furthermore, we can still call addition in this state, and PySyft will automatically perform the remote execution for us!"
   ]
  },
  {
   "cell_type": "code",
   "execution_count": 51,
   "metadata": {
    "colab": {
     "base_uri": "https://localhost:8080/",
     "height": 104
    },
    "colab_type": "code",
    "executionInfo": {
     "elapsed": 313,
     "status": "ok",
     "timestamp": 1562703289197,
     "user": {
      "displayName": "Gharib Gharibi",
      "photoUrl": "https://lh3.googleusercontent.com/-jKnQDkmhZKk/AAAAAAAAAAI/AAAAAAAAAPw/6ddzRde_d0Q/s64/photo.jpg",
      "userId": "12269101840630561007"
     },
     "user_tz": 300
    },
    "id": "q1uUOV3Fyg9_",
    "outputId": "7bef7d2b-0e96-480a-d1ab-dd6f80d4b457"
   },
   "outputs": [
    {
     "data": {
      "text/plain": [
       "(Wrapper)>[AdditiveSharingTensor]\n",
       "\t-> (Wrapper)>[PointerTensor | me:30063808948 -> bob:4371761319]\n",
       "\t-> (Wrapper)>[PointerTensor | me:73369911197 -> alice:70013394536]\n",
       "\t-> (Wrapper)>[PointerTensor | me:13756615944 -> secure_worker:75647072647]\n",
       "\t*crypto provider: me*"
      ]
     },
     "execution_count": 51,
     "metadata": {},
     "output_type": "execute_result"
    }
   ],
   "source": [
    "y = x + x\n",
    "y"
   ]
  },
  {
   "cell_type": "code",
   "execution_count": 52,
   "metadata": {
    "colab": {
     "base_uri": "https://localhost:8080/",
     "height": 87
    },
    "colab_type": "code",
    "executionInfo": {
     "elapsed": 231,
     "status": "ok",
     "timestamp": 1562703304552,
     "user": {
      "displayName": "Gharib Gharibi",
      "photoUrl": "https://lh3.googleusercontent.com/-jKnQDkmhZKk/AAAAAAAAAAI/AAAAAAAAAPw/6ddzRde_d0Q/s64/photo.jpg",
      "userId": "12269101840630561007"
     },
     "user_tz": 300
    },
    "id": "k__hFBeNYBB1",
    "outputId": "a9bfa86e-1ee5-4955-87bb-438f26303316"
   },
   "outputs": [
    {
     "data": {
      "text/plain": [
       "{15375325955: tensor([[0., 0.],\n",
       "         [0., 1.]], requires_grad=True), 34924558735: tensor([[0.],\n",
       "         [0.]], requires_grad=True), 50740065398: tensor([[ 0.0335],\n",
       "         [-0.0127]], grad_fn=<AddmmBackward>), 35039996605: tensor([1511731352967876930,  591925868599571724, 4210120092563609614,\n",
       "          835677433872993700, 3223752319047256009]), 4371761319: tensor([3023462705935753860, 1183851737199143448, 8420240185127219228,\n",
       "         1671354867745987400, 6447504638094512018])}"
      ]
     },
     "execution_count": 52,
     "metadata": {},
     "output_type": "execute_result"
    }
   ],
   "source": [
    "bob._objects # bob has another tensor.. why?"
   ]
  },
  {
   "cell_type": "code",
   "execution_count": 53,
   "metadata": {
    "colab": {
     "base_uri": "https://localhost:8080/",
     "height": 35
    },
    "colab_type": "code",
    "executionInfo": {
     "elapsed": 384,
     "status": "ok",
     "timestamp": 1562703322017,
     "user": {
      "displayName": "Gharib Gharibi",
      "photoUrl": "https://lh3.googleusercontent.com/-jKnQDkmhZKk/AAAAAAAAAAI/AAAAAAAAAPw/6ddzRde_d0Q/s64/photo.jpg",
      "userId": "12269101840630561007"
     },
     "user_tz": 300
    },
    "id": "FGsYMXopyg-C",
    "outputId": "24cb7554-0cf4-4104-a3d0-e89e833ac631"
   },
   "outputs": [
    {
     "data": {
      "text/plain": [
       "tensor([ 2,  4,  6,  8, 10])"
      ]
     },
     "execution_count": 53,
     "metadata": {},
     "output_type": "execute_result"
    }
   ],
   "source": [
    "y.get() # notice that we have doubled the values on each worker!"
   ]
  },
  {
   "cell_type": "code",
   "execution_count": 0,
   "metadata": {
    "colab": {},
    "colab_type": "code",
    "id": "AErqHN8Sf1PF"
   },
   "outputs": [],
   "source": []
  },
  {
   "cell_type": "markdown",
   "metadata": {
    "colab_type": "text",
    "id": "fCTEsZOYyg-E"
   },
   "source": [
    "\n",
    "### Fixed Precision using PySyft\n",
    "\n",
    "We can also convert a tensor to fixed precision using `.fix_precision()`\n",
    "This is important when doing FL since the values you are sharing are decimal numbers.\n",
    "\n",
    "**Q: what values are we sharing? what are the shared secretes?**"
   ]
  },
  {
   "cell_type": "code",
   "execution_count": 3,
   "metadata": {
    "colab": {},
    "colab_type": "code",
    "id": "pX4BjzDjyg-E"
   },
   "outputs": [],
   "source": [
    "x = th.tensor([0.1, 0.2, 0.3, 0.4]) # a decimal tensor!"
   ]
  },
  {
   "cell_type": "code",
   "execution_count": 4,
   "metadata": {
    "colab": {
     "base_uri": "https://localhost:8080/",
     "height": 35
    },
    "colab_type": "code",
    "executionInfo": {
     "elapsed": 221,
     "status": "ok",
     "timestamp": 1562703802819,
     "user": {
      "displayName": "Gharib Gharibi",
      "photoUrl": "https://lh3.googleusercontent.com/-jKnQDkmhZKk/AAAAAAAAAAI/AAAAAAAAAPw/6ddzRde_d0Q/s64/photo.jpg",
      "userId": "12269101840630561007"
     },
     "user_tz": 300
    },
    "id": "sFDXAJOcyg-J",
    "outputId": "13b70c9d-8984-443e-936a-312bc0689f73"
   },
   "outputs": [
    {
     "data": {
      "text/plain": [
       "tensor([0.1000, 0.2000, 0.3000, 0.4000])"
      ]
     },
     "execution_count": 4,
     "metadata": {},
     "output_type": "execute_result"
    }
   ],
   "source": [
    "x"
   ]
  },
  {
   "cell_type": "code",
   "execution_count": 5,
   "metadata": {
    "colab": {
     "base_uri": "https://localhost:8080/",
     "height": 35
    },
    "colab_type": "code",
    "executionInfo": {
     "elapsed": 314,
     "status": "ok",
     "timestamp": 1562703803835,
     "user": {
      "displayName": "Gharib Gharibi",
      "photoUrl": "https://lh3.googleusercontent.com/-jKnQDkmhZKk/AAAAAAAAAAI/AAAAAAAAAPw/6ddzRde_d0Q/s64/photo.jpg",
      "userId": "12269101840630561007"
     },
     "user_tz": 300
    },
    "id": "r2G36bvmyg-M",
    "outputId": "aad31931-9a5a-4494-db6c-463aca37d254"
   },
   "outputs": [
    {
     "data": {
      "text/plain": [
       "(Wrapper)>FixedPrecisionTensor>tensor([100, 200, 300, 400])"
      ]
     },
     "execution_count": 5,
     "metadata": {},
     "output_type": "execute_result"
    }
   ],
   "source": [
    "x = x.fix_precision() # call this function to encode the decimal tensor using fixed precision\n",
    "x # notice that this is a tensor chain <-------"
   ]
  },
  {
   "cell_type": "code",
   "execution_count": 6,
   "metadata": {
    "colab": {
     "base_uri": "https://localhost:8080/",
     "height": 69
    },
    "colab_type": "code",
    "executionInfo": {
     "elapsed": 360,
     "status": "ok",
     "timestamp": 1562703995426,
     "user": {
      "displayName": "Gharib Gharibi",
      "photoUrl": "https://lh3.googleusercontent.com/-jKnQDkmhZKk/AAAAAAAAAAI/AAAAAAAAAPw/6ddzRde_d0Q/s64/photo.jpg",
      "userId": "12269101840630561007"
     },
     "user_tz": 300
    },
    "id": "ATcM3Xivad5x",
    "outputId": "15637749-0dc7-4117-de45-5765d6bcf1e9"
   },
   "outputs": [
    {
     "name": "stdout",
     "output_type": "stream",
     "text": [
      "Type of x <class 'syft.frameworks.torch.tensors.interpreters.native.Tensor'>\n",
      "Type of x.child <class 'syft.frameworks.torch.tensors.interpreters.precision.FixedPrecisionTensor'>\n",
      "Type of x.child.child <class 'syft.frameworks.torch.tensors.interpreters.native.Tensor'>\n"
     ]
    }
   ],
   "source": [
    "print(f'Type of x {type(x)}')\n",
    "print(f'Type of x.child {type(x.child)}')\n",
    "print(f'Type of x.child.child {type(x.child.child)}') # <-- this is how you get the data from a fixed precision tensor"
   ]
  },
  {
   "cell_type": "code",
   "execution_count": 22,
   "metadata": {
    "colab": {
     "base_uri": "https://localhost:8080/",
     "height": 35
    },
    "colab_type": "code",
    "executionInfo": {
     "elapsed": 349,
     "status": "ok",
     "timestamp": 1562704057658,
     "user": {
      "displayName": "Gharib Gharibi",
      "photoUrl": "https://lh3.googleusercontent.com/-jKnQDkmhZKk/AAAAAAAAAAI/AAAAAAAAAPw/6ddzRde_d0Q/s64/photo.jpg",
      "userId": "12269101840630561007"
     },
     "user_tz": 300
    },
    "id": "qUoWTR0zaGGc",
    "outputId": "7be55d41-c5dd-424c-8711-ab0e88a4594b"
   },
   "outputs": [
    {
     "name": "stdout",
     "output_type": "stream",
     "text": [
      "tensor([0.1000, 0.2000, 0.3000, 0.4000])\n"
     ]
    }
   ],
   "source": [
    "# to decode the previous tensor\n",
    "print(x.float_prec())"
   ]
  },
  {
   "cell_type": "code",
   "execution_count": 24,
   "metadata": {
    "colab": {
     "base_uri": "https://localhost:8080/",
     "height": 35
    },
    "colab_type": "code",
    "executionInfo": {
     "elapsed": 337,
     "status": "ok",
     "timestamp": 1562704176803,
     "user": {
      "displayName": "Gharib Gharibi",
      "photoUrl": "https://lh3.googleusercontent.com/-jKnQDkmhZKk/AAAAAAAAAAI/AAAAAAAAAPw/6ddzRde_d0Q/s64/photo.jpg",
      "userId": "12269101840630561007"
     },
     "user_tz": 300
    },
    "id": "VxhTUS0fyg-Q",
    "outputId": "67a04459-078d-45a3-cbb2-61afdfe0aad0"
   },
   "outputs": [
    {
     "data": {
      "text/plain": [
       "(Wrapper)>FixedPrecisionTensor>tensor([200, 400, 600, 800])"
      ]
     },
     "execution_count": 24,
     "metadata": {
      "tags": []
     },
     "output_type": "execute_result"
    }
   ],
   "source": [
    "y = x + x\n",
    "y"
   ]
  },
  {
   "cell_type": "code",
   "execution_count": 25,
   "metadata": {
    "colab": {
     "base_uri": "https://localhost:8080/",
     "height": 35
    },
    "colab_type": "code",
    "executionInfo": {
     "elapsed": 380,
     "status": "ok",
     "timestamp": 1562704182653,
     "user": {
      "displayName": "Gharib Gharibi",
      "photoUrl": "https://lh3.googleusercontent.com/-jKnQDkmhZKk/AAAAAAAAAAI/AAAAAAAAAPw/6ddzRde_d0Q/s64/photo.jpg",
      "userId": "12269101840630561007"
     },
     "user_tz": 300
    },
    "id": "O1zowAiNyg-S",
    "outputId": "ebc6f721-45ad-47ab-aea3-349e084d1939"
   },
   "outputs": [
    {
     "data": {
      "text/plain": [
       "tensor([0.2000, 0.4000, 0.6000, 0.8000])"
      ]
     },
     "execution_count": 25,
     "metadata": {
      "tags": []
     },
     "output_type": "execute_result"
    }
   ],
   "source": [
    "y = y.float_prec()\n",
    "y"
   ]
  },
  {
   "cell_type": "markdown",
   "metadata": {
    "colab_type": "text",
    "id": "dD3PxBYtyg-T"
   },
   "source": [
    "### Shared Fixed Precision\n",
    "\n",
    "And of course, we can combine the two!"
   ]
  },
  {
   "cell_type": "code",
   "execution_count": 0,
   "metadata": {
    "colab": {},
    "colab_type": "code",
    "id": "iHvWTMsCyg-U"
   },
   "outputs": [],
   "source": [
    "x = th.tensor([0.1, 0.2, 0.3])"
   ]
  },
  {
   "cell_type": "code",
   "execution_count": 30,
   "metadata": {
    "colab": {
     "base_uri": "https://localhost:8080/",
     "height": 87
    },
    "colab_type": "code",
    "executionInfo": {
     "elapsed": 300,
     "status": "ok",
     "timestamp": 1562704216480,
     "user": {
      "displayName": "Gharib Gharibi",
      "photoUrl": "https://lh3.googleusercontent.com/-jKnQDkmhZKk/AAAAAAAAAAI/AAAAAAAAAPw/6ddzRde_d0Q/s64/photo.jpg",
      "userId": "12269101840630561007"
     },
     "user_tz": 300
    },
    "id": "pJdZTTsMyg-V",
    "outputId": "27e27916-1e35-4fa7-b7c5-34e3be53b686"
   },
   "outputs": [
    {
     "data": {
      "text/plain": [
       "(Wrapper)>FixedPrecisionTensor>(Wrapper)>[AdditiveSharingTensor]\n",
       "\t-> (Wrapper)>[PointerTensor | me:43948102131 -> bob:41549875499]\n",
       "\t-> (Wrapper)>[PointerTensor | me:98889542648 -> alice:96286304541]\n",
       "\t*crypto provider: me*"
      ]
     },
     "execution_count": 30,
     "metadata": {
      "tags": []
     },
     "output_type": "execute_result"
    }
   ],
   "source": [
    "x = x.fix_prec().share(bob, alice)\n",
    "x"
   ]
  },
  {
   "cell_type": "code",
   "execution_count": 31,
   "metadata": {
    "colab": {
     "base_uri": "https://localhost:8080/",
     "height": 104
    },
    "colab_type": "code",
    "executionInfo": {
     "elapsed": 310,
     "status": "ok",
     "timestamp": 1562704232138,
     "user": {
      "displayName": "Gharib Gharibi",
      "photoUrl": "https://lh3.googleusercontent.com/-jKnQDkmhZKk/AAAAAAAAAAI/AAAAAAAAAPw/6ddzRde_d0Q/s64/photo.jpg",
      "userId": "12269101840630561007"
     },
     "user_tz": 300
    },
    "id": "GwuwrFRVbiQD",
    "outputId": "0b46e4c2-5671-4b82-b31a-590f4417d1c1"
   },
   "outputs": [
    {
     "data": {
      "text/plain": [
       "{1896941596: tensor([3337927225947607575, 4115017391059871510, 5758453651456544530]),\n",
       " 19122572715: tensor([1981985574526026572, 2759075739638290507, 4402512000034963527]),\n",
       " 21697835486: tensor([ 931215927921640947,  459606633707528827, 2077348708747142219,\n",
       "         2518050637076306642, 2250413087966072035]),\n",
       " 41549875499: tensor([3701295438721311877,  945318970846132605,   20024228591329413])}"
      ]
     },
     "execution_count": 31,
     "metadata": {
      "tags": []
     },
     "output_type": "execute_result"
    }
   ],
   "source": [
    "bob._objects"
   ]
  },
  {
   "cell_type": "code",
   "execution_count": 0,
   "metadata": {
    "colab": {},
    "colab_type": "code",
    "id": "CUwsGFb3yg-W"
   },
   "outputs": [],
   "source": [
    "y = x + x"
   ]
  },
  {
   "cell_type": "code",
   "execution_count": 33,
   "metadata": {
    "colab": {
     "base_uri": "https://localhost:8080/",
     "height": 35
    },
    "colab_type": "code",
    "executionInfo": {
     "elapsed": 236,
     "status": "ok",
     "timestamp": 1562704247103,
     "user": {
      "displayName": "Gharib Gharibi",
      "photoUrl": "https://lh3.googleusercontent.com/-jKnQDkmhZKk/AAAAAAAAAAI/AAAAAAAAAPw/6ddzRde_d0Q/s64/photo.jpg",
      "userId": "12269101840630561007"
     },
     "user_tz": 300
    },
    "id": "gCzDtdYcyg-a",
    "outputId": "006d155d-3f0a-4932-80f4-44f86347ed92"
   },
   "outputs": [
    {
     "data": {
      "text/plain": [
       "tensor([0.2000, 0.4000, 0.6000])"
      ]
     },
     "execution_count": 33,
     "metadata": {
      "tags": []
     },
     "output_type": "execute_result"
    }
   ],
   "source": [
    "y.get().float_prec()"
   ]
  },
  {
   "cell_type": "markdown",
   "metadata": {
    "colab_type": "text",
    "id": "PLTpJ64Syg-e"
   },
   "source": [
    "# Final Project: Federated Learning with Encrypted Gradient Aggregation\n",
    "\n",
    "Reuse your project from the Secuered Agggregator above to train the same model using the FL appraoch, but this time use the Additive Sharing Encryption so that the participating members have access to their own models only. There is no secure aggregator in this senario. \n",
    "Include four members in this project (Alice, Bob, Ted, and Carol). \n",
    "\n",
    "Hint: we will *share* the model with the shareholders, do addition on the encrypted models, and then aggregate the final model locally. "
   ]
  },
  {
   "cell_type": "code",
   "execution_count": 1,
   "metadata": {},
   "outputs": [
    {
     "name": "stdout",
     "output_type": "stream",
     "text": [
      "Collecting syft\n",
      "  Downloading https://files.pythonhosted.org/packages/38/2e/16bdefc78eb089e1efa9704c33b8f76f035a30dc935bedd7cbb22f6dabaa/syft-0.1.21a1-py3-none-any.whl (219kB)\n",
      "Collecting msgpack>=0.6.1 (from syft)\n",
      "  Using cached https://files.pythonhosted.org/packages/d1/67/476640810609471e0f3a32c9f4388bf1318b773d0a64b116305d3b604dca/msgpack-0.6.1-cp37-cp37m-win_amd64.whl\n",
      "Collecting websocket-client>=0.56.0 (from syft)\n",
      "  Using cached https://files.pythonhosted.org/packages/29/19/44753eab1fdb50770ac69605527e8859468f3c0fd7dc5a76dd9c4dbd7906/websocket_client-0.56.0-py2.py3-none-any.whl\n",
      "Collecting websockets>=7.0 (from syft)\n",
      "  Downloading https://files.pythonhosted.org/packages/bc/3b/d475aa1144dc8efc8c2caded6da5dc82ea9d4dc7c460d2dfe62ae4e98454/websockets-8.0-cp37-cp37m-win_amd64.whl (65kB)\n",
      "Requirement already satisfied: torch>=1.1 in c:\\users\\kenneth\\anaconda3\\envs\\icp4\\lib\\site-packages (from syft) (1.1.0)\n",
      "Collecting flask-socketio>=3.3.2 (from syft)\n",
      "  Using cached https://files.pythonhosted.org/packages/4b/68/fe4806d3a0a5909d274367eb9b3b87262906c1515024f46c2443a36a0c82/Flask_SocketIO-4.1.0-py2.py3-none-any.whl\n",
      "Requirement already satisfied: numpy>=1.14.0 in c:\\users\\kenneth\\anaconda3\\envs\\icp4\\lib\\site-packages (from syft) (1.16.4)\n",
      "Collecting scikit-learn>=0.21.0 (from syft)\n",
      "  Using cached https://files.pythonhosted.org/packages/75/14/fde90de4fc6722303ddbc183ec253c288dae8c7e4eb5a069ac49f14c9a0f/scikit_learn-0.21.2-cp37-cp37m-win_amd64.whl\n",
      "Collecting zstd>=1.4.0.0 (from syft)\n",
      "Collecting tblib>=1.4.0 (from syft)\n",
      "  Using cached https://files.pythonhosted.org/packages/64/b5/ebb1af4d843047ccd7292b92f5e5f8643153e8b95d14508d9fe3b35f7004/tblib-1.4.0-py2.py3-none-any.whl\n",
      "Collecting tf-encrypted>=0.5.4 (from syft)\n",
      "  Downloading https://files.pythonhosted.org/packages/49/ab/8b772e6d81f1a8af0141b1b7648c6826ed9f4306021568ec8165a3f7f71a/tf-encrypted-0.5.6.tar.gz (105kB)\n",
      "Requirement already satisfied: torchvision>=0.3.0 in c:\\users\\kenneth\\anaconda3\\envs\\icp4\\lib\\site-packages (from syft) (0.3.0)\n",
      "Collecting Flask>=1.0.2 (from syft)\n",
      "  Downloading https://files.pythonhosted.org/packages/9b/93/628509b8d5dc749656a9641f4caf13540e2cdec85276964ff8f43bbb1d3b/Flask-1.1.1-py2.py3-none-any.whl (94kB)\n",
      "Collecting lz4>=2.1.6 (from syft)\n",
      "  Using cached https://files.pythonhosted.org/packages/de/30/c241f360f769fd5a8623bf512de1b184a0473eaeaa6d32c7cda6cfeafef5/lz4-2.1.10-cp37-cp37m-win_amd64.whl\n",
      "Requirement already satisfied: six in c:\\users\\kenneth\\anaconda3\\envs\\icp4\\lib\\site-packages (from websocket-client>=0.56.0->syft) (1.12.0)\n",
      "Collecting python-socketio>=2.1.0 (from flask-socketio>=3.3.2->syft)\n",
      "  Downloading https://files.pythonhosted.org/packages/26/1b/57e860a86f2a01be86ae1dacfa0cd8c4dfbfcd4593322268b61b5a07b564/python_socketio-4.2.0-py2.py3-none-any.whl (46kB)\n",
      "Collecting joblib>=0.11 (from scikit-learn>=0.21.0->syft)\n",
      "  Using cached https://files.pythonhosted.org/packages/cd/c1/50a758e8247561e58cb87305b1e90b171b8c767b15b12a1734001f41d356/joblib-0.13.2-py2.py3-none-any.whl\n",
      "Collecting scipy>=0.17.0 (from scikit-learn>=0.21.0->syft)\n",
      "  Using cached https://files.pythonhosted.org/packages/53/17/9dfd64540b6645fae581462ed2d1c8e680b7e946ca2789c5149693660392/scipy-1.3.0-cp37-cp37m-win_amd64.whl\n",
      "Collecting tensorflow<2,>=1.12.0 (from tf-encrypted>=0.5.4->syft)\n",
      "  Downloading https://files.pythonhosted.org/packages/f7/08/25e47a53692c2e0dcd2211a493ddfe9007a5cd92e175d6dffa6169a0b392/tensorflow-1.14.0-cp37-cp37m-win_amd64.whl (68.3MB)\n",
      "Collecting pyyaml>=5.1 (from tf-encrypted>=0.5.4->syft)\n",
      "  Using cached https://files.pythonhosted.org/packages/f5/93/b5ebdabc7e450418c26a1395d995d878a59bc4272d6ac63d2ada922126ad/PyYAML-5.1.1-cp37-cp37m-win_amd64.whl\n",
      "Requirement already satisfied: pillow>=4.1.1 in c:\\users\\kenneth\\anaconda3\\envs\\icp4\\lib\\site-packages (from torchvision>=0.3.0->syft) (6.0.0)\n",
      "Collecting itsdangerous>=0.24 (from Flask>=1.0.2->syft)\n",
      "  Using cached https://files.pythonhosted.org/packages/76/ae/44b03b253d6fade317f32c24d100b3b35c2239807046a4c953c7b89fa49e/itsdangerous-1.1.0-py2.py3-none-any.whl\n",
      "Collecting Werkzeug>=0.15 (from Flask>=1.0.2->syft)\n",
      "  Using cached https://files.pythonhosted.org/packages/9f/57/92a497e38161ce40606c27a86759c6b92dd34fcdb33f64171ec559257c02/Werkzeug-0.15.4-py2.py3-none-any.whl\n",
      "Requirement already satisfied: Jinja2>=2.10.1 in c:\\users\\kenneth\\anaconda3\\envs\\icp4\\lib\\site-packages (from Flask>=1.0.2->syft) (2.10.1)\n",
      "Collecting click>=5.1 (from Flask>=1.0.2->syft)\n",
      "  Using cached https://files.pythonhosted.org/packages/fa/37/45185cb5abbc30d7257104c434fe0b07e5a195a6847506c074527aa599ec/Click-7.0-py2.py3-none-any.whl\n",
      "Collecting python-engineio>=3.8.0 (from python-socketio>=2.1.0->flask-socketio>=3.3.2->syft)\n",
      "  Downloading https://files.pythonhosted.org/packages/bd/b8/0fc389ca5c445051b37b17802f80bbf1b51c1e3b48b772ee608efbb90583/python_engineio-3.8.2.post1-py2.py3-none-any.whl (119kB)\n",
      "Collecting google-pasta>=0.1.6 (from tensorflow<2,>=1.12.0->tf-encrypted>=0.5.4->syft)\n",
      "  Downloading https://files.pythonhosted.org/packages/d0/33/376510eb8d6246f3c30545f416b2263eee461e40940c2a4413c711bdf62d/google_pasta-0.1.7-py3-none-any.whl (52kB)\n",
      "Collecting keras-applications>=1.0.6 (from tensorflow<2,>=1.12.0->tf-encrypted>=0.5.4->syft)\n",
      "  Using cached https://files.pythonhosted.org/packages/71/e3/19762fdfc62877ae9102edf6342d71b28fbfd9dea3d2f96a882ce099b03f/Keras_Applications-1.0.8-py3-none-any.whl\n",
      "Collecting astor>=0.6.0 (from tensorflow<2,>=1.12.0->tf-encrypted>=0.5.4->syft)\n",
      "  Using cached https://files.pythonhosted.org/packages/d1/4f/950dfae467b384fc96bc6469de25d832534f6b4441033c39f914efd13418/astor-0.8.0-py2.py3-none-any.whl\n",
      "Collecting tensorboard<1.15.0,>=1.14.0 (from tensorflow<2,>=1.12.0->tf-encrypted>=0.5.4->syft)\n",
      "  Downloading https://files.pythonhosted.org/packages/91/2d/2ed263449a078cd9c8a9ba50ebd50123adf1f8cfbea1492f9084169b89d9/tensorboard-1.14.0-py3-none-any.whl (3.1MB)\n",
      "Requirement already satisfied: wheel>=0.26 in c:\\users\\kenneth\\anaconda3\\envs\\icp4\\lib\\site-packages (from tensorflow<2,>=1.12.0->tf-encrypted>=0.5.4->syft) (0.33.4)\n",
      "Collecting grpcio>=1.8.6 (from tensorflow<2,>=1.12.0->tf-encrypted>=0.5.4->syft)\n",
      "  Downloading https://files.pythonhosted.org/packages/7a/f5/fe046577387a3589ab3092096ca423fcf9a8c7ac876f56c6f3b4c9b9e533/grpcio-1.22.0-cp37-cp37m-win_amd64.whl (1.6MB)\n",
      "Collecting wrapt>=1.11.1 (from tensorflow<2,>=1.12.0->tf-encrypted>=0.5.4->syft)\n",
      "  Downloading https://files.pythonhosted.org/packages/23/84/323c2415280bc4fc880ac5050dddfb3c8062c2552b34c2e512eb4aa68f79/wrapt-1.11.2.tar.gz\n",
      "Collecting protobuf>=3.6.1 (from tensorflow<2,>=1.12.0->tf-encrypted>=0.5.4->syft)\n",
      "  Using cached https://files.pythonhosted.org/packages/49/cd/608edf77e6b7cbc6a79dfc33039ee78afac29dfa8e6c894b9ef95b8a5c8c/protobuf-3.8.0-cp37-cp37m-win_amd64.whl\n",
      "Collecting tensorflow-estimator<1.15.0rc0,>=1.14.0rc0 (from tensorflow<2,>=1.12.0->tf-encrypted>=0.5.4->syft)\n",
      "  Downloading https://files.pythonhosted.org/packages/3c/d5/21860a5b11caf0678fbc8319341b0ae21a07156911132e0e71bffed0510d/tensorflow_estimator-1.14.0-py2.py3-none-any.whl (488kB)\n",
      "Collecting termcolor>=1.1.0 (from tensorflow<2,>=1.12.0->tf-encrypted>=0.5.4->syft)\n",
      "Collecting absl-py>=0.7.0 (from tensorflow<2,>=1.12.0->tf-encrypted>=0.5.4->syft)\n",
      "Collecting keras-preprocessing>=1.0.5 (from tensorflow<2,>=1.12.0->tf-encrypted>=0.5.4->syft)\n",
      "  Using cached https://files.pythonhosted.org/packages/28/6a/8c1f62c37212d9fc441a7e26736df51ce6f0e38455816445471f10da4f0a/Keras_Preprocessing-1.1.0-py2.py3-none-any.whl\n",
      "Collecting gast>=0.2.0 (from tensorflow<2,>=1.12.0->tf-encrypted>=0.5.4->syft)\n",
      "Requirement already satisfied: MarkupSafe>=0.23 in c:\\users\\kenneth\\anaconda3\\envs\\icp4\\lib\\site-packages (from Jinja2>=2.10.1->Flask>=1.0.2->syft) (1.1.1)\n",
      "Collecting h5py (from keras-applications>=1.0.6->tensorflow<2,>=1.12.0->tf-encrypted>=0.5.4->syft)\n",
      "  Using cached https://files.pythonhosted.org/packages/4f/1e/89aa610afce8df6fd1f12647600a05e902238587ae6375442a3164b59d51/h5py-2.9.0-cp37-cp37m-win_amd64.whl\n",
      "Collecting markdown>=2.6.8 (from tensorboard<1.15.0,>=1.14.0->tensorflow<2,>=1.12.0->tf-encrypted>=0.5.4->syft)\n",
      "  Using cached https://files.pythonhosted.org/packages/c0/4e/fd492e91abdc2d2fcb70ef453064d980688762079397f779758e055f6575/Markdown-3.1.1-py2.py3-none-any.whl\n",
      "Requirement already satisfied: setuptools>=41.0.0 in c:\\users\\kenneth\\anaconda3\\envs\\icp4\\lib\\site-packages (from tensorboard<1.15.0,>=1.14.0->tensorflow<2,>=1.12.0->tf-encrypted>=0.5.4->syft) (41.0.1)\n",
      "Building wheels for collected packages: tf-encrypted, wrapt\n",
      "  Building wheel for tf-encrypted (setup.py): started\n",
      "  Building wheel for tf-encrypted (setup.py): finished with status 'done'\n",
      "  Stored in directory: C:\\Users\\Kenneth\\AppData\\Local\\pip\\Cache\\wheels\\b1\\42\\32\\dfbd686975e0c953a8a8781446c55286abff2cd29b8b445506\n",
      "  Building wheel for wrapt (setup.py): started\n",
      "  Building wheel for wrapt (setup.py): finished with status 'done'\n",
      "  Stored in directory: C:\\Users\\Kenneth\\AppData\\Local\\pip\\Cache\\wheels\\d7\\de\\2e\\efa132238792efb6459a96e85916ef8597fcb3d2ae51590dfd\n",
      "Successfully built tf-encrypted wrapt\n",
      "Installing collected packages: msgpack, websocket-client, websockets, itsdangerous, Werkzeug, click, Flask, python-engineio, python-socketio, flask-socketio, joblib, scipy, scikit-learn, zstd, tblib, google-pasta, h5py, keras-applications, astor, absl-py, grpcio, markdown, protobuf, tensorboard, wrapt, tensorflow-estimator, termcolor, keras-preprocessing, gast, tensorflow, pyyaml, tf-encrypted, lz4, syft\n",
      "Successfully installed Flask-1.1.1 Werkzeug-0.15.4 absl-py-0.7.1 astor-0.8.0 click-7.0 flask-socketio-4.1.0 gast-0.2.2 google-pasta-0.1.7 grpcio-1.22.0 h5py-2.9.0 itsdangerous-1.1.0 joblib-0.13.2 keras-applications-1.0.8 keras-preprocessing-1.1.0 lz4-2.1.10 markdown-3.1.1 msgpack-0.6.1 protobuf-3.8.0 python-engineio-3.8.2.post1 python-socketio-4.2.0 pyyaml-5.1.1 scikit-learn-0.21.2 scipy-1.3.0 syft-0.1.21a1 tblib-1.4.0 tensorboard-1.14.0 tensorflow-1.14.0 tensorflow-estimator-1.14.0 termcolor-1.1.0 tf-encrypted-0.5.6 websocket-client-0.56.0 websockets-8.0 wrapt-1.11.2 zstd-1.4.0.0\n"
     ]
    }
   ],
   "source": [
    "!pip install syft"
   ]
  },
  {
   "cell_type": "code",
   "execution_count": 1,
   "metadata": {
    "colab": {},
    "colab_type": "code",
    "id": "hSmcZYzYyg-g"
   },
   "outputs": [
    {
     "name": "stderr",
     "output_type": "stream",
     "text": [
      "WARNING:tf_encrypted:Falling back to insecure randomness since the required custom op could not be found for the installed version of TensorFlow (1.13.1). Fix this by compiling custom ops.\n"
     ]
    }
   ],
   "source": [
    "# create cells as needed. Separate your solution into logical cells.\n",
    "\n",
    "import syft as sy\n",
    "import torch as th\n",
    "from torch import nn, optim"
   ]
  },
  {
   "cell_type": "code",
   "execution_count": null,
   "metadata": {},
   "outputs": [],
   "source": []
  },
  {
   "cell_type": "code",
   "execution_count": 2,
   "metadata": {},
   "outputs": [],
   "source": [
    "hook = sy.TorchHook(th)"
   ]
  },
  {
   "cell_type": "code",
   "execution_count": 3,
   "metadata": {
    "scrolled": true
   },
   "outputs": [
    {
     "name": "stderr",
     "output_type": "stream",
     "text": [
      "WARNING:syft.workers.base:Worker alice already exists. Replacing old worker which could cause                     unexpected behavior\n",
      "WARNING:syft.workers.base:Worker carol already exists. Replacing old worker which could cause                     unexpected behavior\n",
      "WARNING:syft.workers.base:Worker ted already exists. Replacing old worker which could cause                     unexpected behavior\n",
      "WARNING:syft.workers.base:Worker bob already exists. Replacing old worker which could cause                     unexpected behavior\n",
      "WARNING:syft.workers.base:Worker carol already exists. Replacing old worker which could cause                     unexpected behavior\n",
      "WARNING:syft.workers.base:Worker ted already exists. Replacing old worker which could cause                     unexpected behavior\n",
      "WARNING:syft.workers.base:Worker alice already exists. Replacing old worker which could cause                     unexpected behavior\n",
      "WARNING:syft.workers.base:Worker bob already exists. Replacing old worker which could cause                     unexpected behavior\n",
      "WARNING:syft.workers.base:Worker ted already exists. Replacing old worker which could cause                     unexpected behavior\n",
      "WARNING:syft.workers.base:Worker alice already exists. Replacing old worker which could cause                     unexpected behavior\n",
      "WARNING:syft.workers.base:Worker bob already exists. Replacing old worker which could cause                     unexpected behavior\n",
      "WARNING:syft.workers.base:Worker carol already exists. Replacing old worker which could cause                     unexpected behavior\n"
     ]
    }
   ],
   "source": [
    "##bob.clear_objects\n",
    "##alice.clear_objects\n",
    "\n",
    "\n",
    "bob = sy.VirtualWorker(hook, id=\"bob\")\n",
    "alice = sy.VirtualWorker(hook, id=\"alice\")\n",
    "ted = sy.VirtualWorker(hook, id=\"ted\")\n",
    "carol = sy.VirtualWorker(hook, id=\"carol\")\n",
    "\n",
    "\n",
    "bob.add_workers([alice, carol, ted])\n",
    "alice.add_workers([bob, carol, ted])\n",
    "carol.add_workers([alice, bob, ted])\n",
    "ted.add_workers([alice, bob, carol])\n",
    "\n",
    "# A Toy Dataset\n",
    "data = th.tensor([[0,0],[0,1],[1,0],[1,1.],[0,0],[0,1],[1,0],[1,1.]], requires_grad=True)\n",
    "target = th.tensor([[0],[0],[1],[1.],[0],[0],[1],[1.]], requires_grad=True)\n",
    "\n",
    "data = data.fix_precision().share(bob, alice, ted, carol)\n",
    "target = target.fix_precision().share(bob, alice, ted, carol)\n",
    "# get pointers to training data on each worker by\n",
    "# sending some training data to bob and alice\n",
    "##bobs_data = data.send(bob)\n",
    "##bobs_target = target.send(bob)\n",
    "\n",
    "##alices_data = data.send(alice)\n",
    "##alices_target = target.send(alice)\n",
    "\n",
    "##teds_data = data.send(ted)\n",
    "##teds_target = target.send(ted)\n",
    "\n",
    "##carols_data = data.send(carol)\n",
    "##carols_target = target.send(carol)\n",
    "\n",
    "workers = [\"bob\", \"alice\", \"ted\", \"carol\"]\n",
    "\n",
    "##model = nn.Linear(2,1)\n",
    "\n",
    "#print(bob._objects)\n",
    "#print(alice._objects)\n",
    "#print(ted._objects)\n",
    "#print(carol._objects)"
   ]
  },
  {
   "cell_type": "code",
   "execution_count": 4,
   "metadata": {},
   "outputs": [
    {
     "name": "stdout",
     "output_type": "stream",
     "text": [
      "<class 'torch.nn.modules.linear.Linear'>\n"
     ]
    }
   ],
   "source": [
    "model = nn.Linear(2,1)\n",
    "#model = model.fix_precision()\n",
    "#model = model.fix_precision().share(bob, alice, ted, carol)\n",
    "optimizer = optim.SGD(params=model.parameters(), lr=0.1)\n",
    "\n",
    "#print(model)\n",
    "#print(bob._objects)\n",
    "#print(alice._objects)\n",
    "#print(ted._objects)\n",
    "#print(carol._objects)\n",
    "print(type(model))"
   ]
  },
  {
   "cell_type": "code",
   "execution_count": 5,
   "metadata": {},
   "outputs": [
    {
     "name": "stdout",
     "output_type": "stream",
     "text": [
      "0\n",
      "<class 'torch.optim.sgd.SGD'>\n"
     ]
    },
    {
     "ename": "AttributeError",
     "evalue": "'FixedPrecisionTensor' object has no attribute 'attr'",
     "output_type": "error",
     "traceback": [
      "\u001b[1;31m---------------------------------------------------------------------------\u001b[0m",
      "\u001b[1;31mAttributeError\u001b[0m                            Traceback (most recent call last)",
      "\u001b[1;32m<ipython-input-5-e232bd123266>\u001b[0m in \u001b[0;36m<module>\u001b[1;34m\u001b[0m\n\u001b[0;32m     14\u001b[0m         \u001b[1;31m# Train Bob's Model\u001b[0m\u001b[1;33m\u001b[0m\u001b[1;33m\u001b[0m\u001b[1;33m\u001b[0m\u001b[0m\n\u001b[0;32m     15\u001b[0m         \u001b[0mprint\u001b[0m\u001b[1;33m(\u001b[0m\u001b[0mtype\u001b[0m\u001b[1;33m(\u001b[0m\u001b[0moptimizer\u001b[0m\u001b[1;33m)\u001b[0m\u001b[1;33m)\u001b[0m\u001b[1;33m\u001b[0m\u001b[1;33m\u001b[0m\u001b[0m\n\u001b[1;32m---> 16\u001b[1;33m         \u001b[0moptimizer\u001b[0m\u001b[1;33m.\u001b[0m\u001b[0mzero_grad\u001b[0m\u001b[1;33m(\u001b[0m\u001b[1;33m)\u001b[0m\u001b[1;33m\u001b[0m\u001b[1;33m\u001b[0m\u001b[0m\n\u001b[0m\u001b[0;32m     17\u001b[0m         \u001b[0mpreds\u001b[0m \u001b[1;33m=\u001b[0m \u001b[0mmodel\u001b[0m\u001b[1;33m(\u001b[0m\u001b[0mdata\u001b[0m\u001b[1;33m)\u001b[0m\u001b[1;33m\u001b[0m\u001b[1;33m\u001b[0m\u001b[0m\n\u001b[0;32m     18\u001b[0m         \u001b[0mbobs_loss\u001b[0m \u001b[1;33m=\u001b[0m \u001b[1;33m(\u001b[0m\u001b[1;33m(\u001b[0m\u001b[0mpreds\u001b[0m \u001b[1;33m-\u001b[0m \u001b[0mtarget\u001b[0m\u001b[1;33m)\u001b[0m \u001b[1;33m**\u001b[0m \u001b[1;36m2\u001b[0m\u001b[1;33m)\u001b[0m\u001b[1;33m.\u001b[0m\u001b[0msum\u001b[0m\u001b[1;33m(\u001b[0m\u001b[1;33m)\u001b[0m\u001b[1;33m\u001b[0m\u001b[1;33m\u001b[0m\u001b[0m\n",
      "\u001b[1;32m~\\Anaconda3\\envs\\ICP3\\lib\\site-packages\\torch\\optim\\optimizer.py\u001b[0m in \u001b[0;36mzero_grad\u001b[1;34m(self)\u001b[0m\n\u001b[0;32m    160\u001b[0m         \u001b[1;32mfor\u001b[0m \u001b[0mgroup\u001b[0m \u001b[1;32min\u001b[0m \u001b[0mself\u001b[0m\u001b[1;33m.\u001b[0m\u001b[0mparam_groups\u001b[0m\u001b[1;33m:\u001b[0m\u001b[1;33m\u001b[0m\u001b[1;33m\u001b[0m\u001b[0m\n\u001b[0;32m    161\u001b[0m             \u001b[1;32mfor\u001b[0m \u001b[0mp\u001b[0m \u001b[1;32min\u001b[0m \u001b[0mgroup\u001b[0m\u001b[1;33m[\u001b[0m\u001b[1;34m'params'\u001b[0m\u001b[1;33m]\u001b[0m\u001b[1;33m:\u001b[0m\u001b[1;33m\u001b[0m\u001b[1;33m\u001b[0m\u001b[0m\n\u001b[1;32m--> 162\u001b[1;33m                 \u001b[1;32mif\u001b[0m \u001b[0mp\u001b[0m\u001b[1;33m.\u001b[0m\u001b[0mgrad\u001b[0m \u001b[1;32mis\u001b[0m \u001b[1;32mnot\u001b[0m \u001b[1;32mNone\u001b[0m\u001b[1;33m:\u001b[0m\u001b[1;33m\u001b[0m\u001b[1;33m\u001b[0m\u001b[0m\n\u001b[0m\u001b[0;32m    163\u001b[0m                     \u001b[0mp\u001b[0m\u001b[1;33m.\u001b[0m\u001b[0mgrad\u001b[0m\u001b[1;33m.\u001b[0m\u001b[0mdetach_\u001b[0m\u001b[1;33m(\u001b[0m\u001b[1;33m)\u001b[0m\u001b[1;33m\u001b[0m\u001b[1;33m\u001b[0m\u001b[0m\n\u001b[0;32m    164\u001b[0m                     \u001b[0mp\u001b[0m\u001b[1;33m.\u001b[0m\u001b[0mgrad\u001b[0m\u001b[1;33m.\u001b[0m\u001b[0mzero_\u001b[0m\u001b[1;33m(\u001b[0m\u001b[1;33m)\u001b[0m\u001b[1;33m\u001b[0m\u001b[1;33m\u001b[0m\u001b[0m\n",
      "\u001b[1;32m~\\Anaconda3\\envs\\ICP3\\lib\\site-packages\\syft\\frameworks\\torch\\hook\\hook.py\u001b[0m in \u001b[0;36mgrad\u001b[1;34m(self)\u001b[0m\n\u001b[0;32m    381\u001b[0m \u001b[1;33m\u001b[0m\u001b[0m\n\u001b[0;32m    382\u001b[0m             \u001b[1;32mif\u001b[0m \u001b[0mhasattr\u001b[0m\u001b[1;33m(\u001b[0m\u001b[0mself\u001b[0m\u001b[1;33m,\u001b[0m \u001b[1;34m\"child\"\u001b[0m\u001b[1;33m)\u001b[0m\u001b[1;33m:\u001b[0m\u001b[1;33m\u001b[0m\u001b[1;33m\u001b[0m\u001b[0m\n\u001b[1;32m--> 383\u001b[1;33m                 \u001b[0mto_return\u001b[0m \u001b[1;33m=\u001b[0m \u001b[0mself\u001b[0m\u001b[1;33m.\u001b[0m\u001b[0mchild\u001b[0m\u001b[1;33m.\u001b[0m\u001b[0mattr\u001b[0m\u001b[1;33m(\u001b[0m\u001b[1;34m\"grad\"\u001b[0m\u001b[1;33m)\u001b[0m\u001b[1;33m\u001b[0m\u001b[1;33m\u001b[0m\u001b[0m\n\u001b[0m\u001b[0;32m    384\u001b[0m                 \u001b[1;32mif\u001b[0m \u001b[0misinstance\u001b[0m\u001b[1;33m(\u001b[0m\u001b[0mto_return\u001b[0m\u001b[1;33m.\u001b[0m\u001b[0mchild\u001b[0m\u001b[1;33m,\u001b[0m \u001b[0msyft\u001b[0m\u001b[1;33m.\u001b[0m\u001b[0mPointerTensor\u001b[0m\u001b[1;33m)\u001b[0m\u001b[1;33m:\u001b[0m\u001b[1;33m\u001b[0m\u001b[1;33m\u001b[0m\u001b[0m\n\u001b[0;32m    385\u001b[0m                     \u001b[1;32mif\u001b[0m \u001b[0mto_return\u001b[0m\u001b[1;33m.\u001b[0m\u001b[0mchild\u001b[0m\u001b[1;33m.\u001b[0m\u001b[0mis_none\u001b[0m\u001b[1;33m(\u001b[0m\u001b[1;33m)\u001b[0m\u001b[1;33m:\u001b[0m\u001b[1;33m\u001b[0m\u001b[1;33m\u001b[0m\u001b[0m\n",
      "\u001b[1;31mAttributeError\u001b[0m: 'FixedPrecisionTensor' object has no attribute 'attr'"
     ]
    }
   ],
   "source": [
    "iterations = 10\n",
    "worker_iters = 5\n",
    "\n",
    "\n",
    "for a_iter in range(iterations):\n",
    "\n",
    "   ## bobs_opt = optim.SGD(params=model.parameters(), lr=0.1)\n",
    "    print(a_iter)\n",
    "    #optimizer = optim.SGD(params=model.parameters(), lr=0.1)\n",
    "    \n",
    "    model = model.fix_precision().share(bob, alice, ted, carol)\n",
    "    \n",
    "    for wi in range(worker_iters):\n",
    "        # Train Bob's Model\n",
    "        print(type(optimizer))\n",
    "        optimizer.zero_grad()\n",
    "        preds = model(data)\n",
    "        bobs_loss = ((preds - target) ** 2).sum()\n",
    "        bobs_loss.backward()\n",
    "\n",
    "        optimizer.step()\n",
    "    #bobs_loss = bobs_loss.get().data\n",
    "\n",
    "       \n",
    "\n",
    "    model = model.get().float_precision()\n",
    "\n",
    "\n",
    "        \n",
    "    \n",
    "    ##print(\"Loss: \" + bobs_loss)"
   ]
  }
 ],
 "metadata": {
  "colab": {
   "collapsed_sections": [],
   "name": "L5 - Encrypted Securing Federated Learning.ipynb",
   "provenance": [],
   "version": "0.3.2"
  },
  "kernelspec": {
   "display_name": "Python 3",
   "language": "python",
   "name": "python3"
  },
  "language_info": {
   "codemirror_mode": {
    "name": "ipython",
    "version": 3
   },
   "file_extension": ".py",
   "mimetype": "text/x-python",
   "name": "python",
   "nbconvert_exporter": "python",
   "pygments_lexer": "ipython3",
   "version": "3.7.3"
  }
 },
 "nbformat": 4,
 "nbformat_minor": 1
}
