{
  "nbformat": 4,
  "nbformat_minor": 0,
  "metadata": {
    "colab": {
      "name": "ICP 6 Membership Attack - solution guidelines (1).ipynb",
      "version": "0.3.2",
      "provenance": [],
      "collapsed_sections": []
    },
    "kernelspec": {
      "name": "python3",
      "display_name": "Python 3"
    },
    "accelerator": "GPU"
  },
  "cells": [
    {
      "cell_type": "code",
      "metadata": {
        "id": "OvK6LaVhrfZ8",
        "colab_type": "code",
        "colab": {}
      },
      "source": [
        "# required imports\n",
        "import sys \n",
        "import numpy as np \n",
        "import matplotlib.pyplot as plt\n",
        "%matplotlib inline  \n",
        "\n",
        "\n",
        "import torch\n",
        "import torchvision \n",
        "import torchvision.transforms as transforms\n",
        "import torch.optim as optim\n",
        "import torch.nn as nn\n",
        "import torch.nn.functional as F\n",
        "from torch.utils.data.sampler import SubsetRandomSampler"
      ],
      "execution_count": 0,
      "outputs": []
    },
    {
      "cell_type": "code",
      "metadata": {
        "id": "O05dkTKAsEh-",
        "colab_type": "code",
        "outputId": "cba0d3f1-4510-472f-de6b-3530bdc5487d",
        "colab": {
          "base_uri": "https://localhost:8080/",
          "height": 34
        }
      },
      "source": [
        "# mount the google drive to download the datasets\n",
        "from google.colab import drive\n",
        "drive.mount('/content/drive')\n",
        "#project_path = 'include pathe to where your notebook is located on the drive'"
      ],
      "execution_count": 2,
      "outputs": [
        {
          "output_type": "stream",
          "text": [
            "Drive already mounted at /content/drive; to attempt to forcibly remount, call drive.mount(\"/content/drive\", force_remount=True).\n"
          ],
          "name": "stdout"
        }
      ]
    },
    {
      "cell_type": "code",
      "metadata": {
        "id": "pEW1mLverl7l",
        "colab_type": "code",
        "colab": {}
      },
      "source": [
        "# create transforms to load the images, nothing much is needed here. \n",
        "\n",
        "transform_train = transforms.Compose([\n",
        "    transforms.RandomCrop(32, padding=4),\n",
        "    transforms.RandomHorizontalFlip(),\n",
        "    transforms.ToTensor(),\n",
        "    transforms.Normalize((0.4914, 0.4822, 0.4465), (0.2023, 0.1994, 0.2010)),\n",
        "])\n",
        "\n",
        "# Normalize the test set same as training set without augmentation\n",
        "transform_test = transforms.Compose([\n",
        "    transforms.ToTensor(),\n",
        "    transforms.Normalize((0.4914, 0.4822, 0.4465), (0.2023, 0.1994, 0.2010)),\n",
        "])\n"
      ],
      "execution_count": 0,
      "outputs": []
    },
    {
      "cell_type": "code",
      "metadata": {
        "id": "sjsFJTFwr1wV",
        "colab_type": "code",
        "outputId": "927d92e9-dd14-4884-b267-73714001b4b1",
        "colab": {
          "base_uri": "https://localhost:8080/",
          "height": 51
        }
      },
      "source": [
        "# download CIFAR 10 training set\n",
        "trainset = torchvision.datasets.CIFAR10('../data', train=True,\n",
        "                                        download=True, transform=transform_train)\n",
        "\n",
        "# load the trainning set\n",
        "trainloader = torch.utils.data.DataLoader(trainset, batch_size=4, shuffle=True)\n",
        "\n",
        "# download the test data\n",
        "testset = torchvision.datasets.CIFAR10('../data', train=True,\n",
        "                                        download=True, transform=transform_test)\n",
        "\n",
        "# load the test data\n",
        "testloader = torch.utils.data.DataLoader(\n",
        "    testset, batch_size=4, shuffle=False, num_workers=2)\n",
        "\n",
        "classes = ('plane', 'car', 'bird', 'cat', 'deer', 'dog', 'frog', 'horse', 'ship', 'truck')\n",
        "# check those manually on the dataset site: https://www.cs.toronto.edu/~kriz/cifar.html "
      ],
      "execution_count": 4,
      "outputs": [
        {
          "output_type": "stream",
          "text": [
            "Files already downloaded and verified\n",
            "Files already downloaded and verified\n"
          ],
          "name": "stdout"
        }
      ]
    },
    {
      "cell_type": "code",
      "metadata": {
        "id": "itY7G_y3tDnC",
        "colab_type": "code",
        "outputId": "29e99986-8394-4cb9-fcea-916805bdf3e9",
        "colab": {
          "base_uri": "https://localhost:8080/",
          "height": 173
        }
      },
      "source": [
        "# helper function to unnormalize and plot image \n",
        "def imshow(img):\n",
        "    img = np.array(img)\n",
        "    img = img / 2 + 0.5\n",
        "    img = np.moveaxis(img, 0, -1)\n",
        "    plt.imshow(img)\n",
        "    \n",
        "# display sample from dataset \n",
        "imgs, labels = iter(trainloader).next()\n",
        "imshow(torchvision.utils.make_grid(imgs)) \n",
        "\n",
        "# notice who we converted the class idx to labels\n",
        "print(' '.join('%5s' % classes[labels[j]] for j in range(4)))\n",
        "\n",
        "# run this cell multiple times and notice diff images"
      ],
      "execution_count": 5,
      "outputs": [
        {
          "output_type": "stream",
          "text": [
            "Clipping input data to the valid range for imshow with RGB data ([0..1] for floats or [0..255] for integers).\n"
          ],
          "name": "stderr"
        },
        {
          "output_type": "stream",
          "text": [
            " frog horse   dog truck\n"
          ],
          "name": "stdout"
        },
        {
          "output_type": "display_data",
          "data": {
            "image/png": "[encoded data removed]",
            "text/plain": [
              "<Figure size 432x288 with 1 Axes>"
            ]
          },
          "metadata": {
            "tags": []
          }
        }
      ]
    },
    {
      "cell_type": "code",
      "metadata": {
        "id": "AJK32k42gbEK",
        "colab_type": "code",
        "outputId": "a1983bd4-48bf-43c8-b66a-3eb0f26380ca",
        "colab": {
          "base_uri": "https://localhost:8080/",
          "height": 34
        }
      },
      "source": [
        "# divide the training dataset into the required groups Make sure they are balanced\n",
        "# original trainset is made of 50k images\n",
        "\n",
        "total_size = len(trainset)\n",
        "test_size = len(testset)\n",
        "#loader_size = len(trainloader)\n",
        "split1 = total_size // 4\n",
        "split2 = split1 * 2\n",
        "split3 = split1 * 3\n",
        "\n",
        "#print(loader_size)\n",
        "\n",
        "print(total_size, test_size, split1, split2, split3)\n",
        "\n",
        "indices = list(range(total_size))\n",
        "\n",
        "# two groups to train the shadow (in and out)\n",
        "shadow_train_idx = indices[:split1]\n",
        "shadow_out_idx = indices[split1:split2]\n",
        "\n",
        "# two groups to train the Target (in and out)\n",
        "target_train_idx = indices[split2:split3]\n",
        "target_out_idx = indices[split3:total_size]"
      ],
      "execution_count": 6,
      "outputs": [
        {
          "output_type": "stream",
          "text": [
            "50000 50000 12500 25000 37500\n"
          ],
          "name": "stdout"
        }
      ]
    },
    {
      "cell_type": "code",
      "metadata": {
        "id": "W4wJ_0lkhp76",
        "colab_type": "code",
        "outputId": "a30c8e3a-cb05-4028-8c98-d5e57849889e",
        "colab": {
          "base_uri": "https://localhost:8080/",
          "height": 85
        }
      },
      "source": [
        "train_batch_size = 128 # pick your own\n",
        "test_batch_size = 64\n",
        "\n",
        "#train_batch_size = 128 # maybe only need one\n",
        "#test_batch_size = 64\n",
        "\n",
        "# divide and load shadow train in and out\n",
        "shadow_train_sampler = SubsetRandomSampler(shadow_train_idx) # Pytorch function\n",
        "shadow_train_loader = torch.utils.data.DataLoader(trainset, batch_size=train_batch_size, sampler=shadow_train_sampler)\n",
        "\n",
        "shadow_out_sampler = SubsetRandomSampler(shadow_out_idx)\n",
        "shadow_out_loader = torch.utils.data.DataLoader(testset, batch_size=test_batch_size, sampler=shadow_out_sampler)\n",
        "\n",
        "# divide and load Target in and out\n",
        "target_train_sampler = SubsetRandomSampler(target_train_idx)\n",
        "target_out_sampler = SubsetRandomSampler(target_out_idx)\n",
        "\n",
        "target_train_loader = torch.utils.data.DataLoader(trainset, batch_size=train_batch_size, sampler=target_train_sampler)\n",
        "\n",
        "target_out_loader = torch.utils.data.DataLoader(testset, batch_size=test_batch_size, sampler=target_out_sampler)\n",
        "\n",
        "print(len(shadow_train_loader))\n",
        "print(len(shadow_out_loader))\n",
        "print(len(target_train_loader))\n",
        "print(len(target_out_loader))\n"
      ],
      "execution_count": 7,
      "outputs": [
        {
          "output_type": "stream",
          "text": [
            "98\n",
            "196\n",
            "98\n",
            "196\n"
          ],
          "name": "stdout"
        }
      ]
    },
    {
      "cell_type": "code",
      "metadata": {
        "id": "Kj9LuQJNuCXC",
        "colab_type": "code",
        "colab": {}
      },
      "source": [
        "# create a CNN\n",
        "# Input shape (3, 32, 32) \n",
        "# architecture: simple. 2 conv and 2 Max pool, followed by 2 fc (120, 84) \n",
        "# output of fc is 10 because we have 10 classes!\n",
        "\n",
        "\n",
        "\n",
        "class CNN(nn.Module):\n",
        "    \"\"\"CNN.\"\"\"\n",
        "\n",
        "    def __init__(self):\n",
        "        \"\"\"CNN Builder.\"\"\"\n",
        "        super(CNN, self).__init__()\n",
        "\n",
        "        self.conv_layer = nn.Sequential(\n",
        "\n",
        "            # Conv Layer block 1\n",
        "            nn.Conv2d(in_channels=3, out_channels=32, kernel_size=3, padding=1),\n",
        "            nn.BatchNorm2d(32),\n",
        "            nn.ReLU(inplace=True),\n",
        "            nn.Conv2d(in_channels=32, out_channels=64, kernel_size=3, padding=1),\n",
        "            nn.ReLU(inplace=True),\n",
        "            nn.MaxPool2d(kernel_size=2, stride=2),\n",
        "\n",
        "            # Conv Layer block 2\n",
        "            nn.Conv2d(in_channels=64, out_channels=128, kernel_size=3, padding=1),\n",
        "            nn.BatchNorm2d(128),\n",
        "            nn.ReLU(inplace=True),\n",
        "            nn.Conv2d(in_channels=128, out_channels=128, kernel_size=3, padding=1),\n",
        "            nn.ReLU(inplace=True),\n",
        "            nn.MaxPool2d(kernel_size=2, stride=2),\n",
        "            nn.Dropout2d(p=0.05),\n",
        "\n",
        "        )\n",
        "\n",
        "\n",
        "        self.fc_layer = nn.Sequential(\n",
        "            nn.Dropout(p=0.1),\n",
        "            nn.Linear(8192, 1024),\n",
        "            nn.ReLU(inplace=True),\n",
        "            nn.Linear(1024, 512),\n",
        "            nn.ReLU(inplace=True),\n",
        "            nn.Dropout(p=0.1),\n",
        "            nn.Linear(512, 10)\n",
        "        )\n",
        "\n",
        "\n",
        "    def forward(self, x):\n",
        "        \"\"\"Perform forward.\"\"\"\n",
        "        \n",
        "        # conv layers\n",
        "        x = self.conv_layer(x)\n",
        "        \n",
        "        # flatten\n",
        "        x = x.view(x.size(0), -1)\n",
        "        \n",
        "        # fc layer\n",
        "        x = self.fc_layer(x)\n",
        "\n",
        "        return x"
      ],
      "execution_count": 0,
      "outputs": []
    },
    {
      "cell_type": "code",
      "metadata": {
        "id": "ER_B4V8YjKyU",
        "colab_type": "code",
        "outputId": "9a182563-4bc0-4af3-b39d-f9351e4ccd7b",
        "colab": {
          "base_uri": "https://localhost:8080/",
          "height": 374
        }
      },
      "source": [
        "# initalize a target model and train it\n",
        "epochs = 20\n",
        "device = torch.device(\"cuda:0\" if torch.cuda.is_available() else \"cpu\")\n",
        "\n",
        "target_model = CNN()\n",
        "target_model.to(device)\n",
        "criterion = nn.CrossEntropyLoss() # CrossEntropyLoss\n",
        "optimizer = optim.Adam(target_model.parameters(), lr = .001)# try Adam VS SGD\n",
        "\n",
        "# let the magic begin\n",
        "for epoch in range(epochs):  \n",
        "\n",
        "    running_loss = 0.0\n",
        "    \n",
        "    for i, data in enumerate(target_train_loader, 0):\n",
        "        # get the inputs; data is a list of [inputs, labels]\n",
        "        inputs, labels = data\n",
        "        inputs, labels = inputs.to(device), labels.to(device)\n",
        "\n",
        "        # zero the parameter gradients\n",
        "        optimizer.zero_grad()\n",
        "\n",
        "        # forward + backward + optimize\n",
        "        # make a prediction: forward prop\n",
        "        #print(inputs.shape)\n",
        "        outputs = target_model(inputs)\n",
        "                       \n",
        "        # calculate loss\n",
        "        loss = criterion(outputs, labels)\n",
        "                       \n",
        "        # backwards propogation\n",
        "        loss.backward()       \n",
        "        \n",
        "       \n",
        "\n",
        "        # calculate gradients\n",
        "        optimizer.step()\n",
        "        # updaate weights in backprop\n",
        "                       \n",
        "                       \n",
        "        running_loss += loss.data\n",
        "        # print statistics\n",
        "        \n",
        "    ##train_accuracy = calculate_accuracy(trainloader)\n",
        "    ##test_accuracy = calculate_accuracy(testloader)\n",
        "\n",
        "    running_loss_normal = running_loss / len(target_train_loader)\n",
        "    print(\"Running Loss: %f , Normalized: %f\" % (running_loss, running_loss_normal))\n",
        "\n",
        "    #print(\"Iteration: {0} | Loss: {1} | Training accuracy: {2}% | Test accuracy: {3}%\".format(epoch+1, running_loss, train_accuracy, test_accuracy))\n",
        "        \n",
        "        \n",
        "\n",
        "print('Finished Training the Target model...')"
      ],
      "execution_count": 9,
      "outputs": [
        {
          "output_type": "stream",
          "text": [
            "Running Loss: 185.574234 , Normalized: 1.893615\n",
            "Running Loss: 151.831146 , Normalized: 1.549297\n",
            "Running Loss: 138.282974 , Normalized: 1.411051\n",
            "Running Loss: 126.807106 , Normalized: 1.293950\n",
            "Running Loss: 119.700676 , Normalized: 1.221435\n",
            "Running Loss: 109.588593 , Normalized: 1.118251\n",
            "Running Loss: 104.968285 , Normalized: 1.071105\n",
            "Running Loss: 99.515739 , Normalized: 1.015467\n",
            "Running Loss: 95.066246 , Normalized: 0.970064\n",
            "Running Loss: 93.664368 , Normalized: 0.955759\n",
            "Running Loss: 87.049095 , Normalized: 0.888256\n",
            "Running Loss: 84.368797 , Normalized: 0.860906\n",
            "Running Loss: 82.469635 , Normalized: 0.841527\n",
            "Running Loss: 79.453140 , Normalized: 0.810746\n",
            "Running Loss: 77.422150 , Normalized: 0.790022\n",
            "Running Loss: 75.387833 , Normalized: 0.769264\n",
            "Running Loss: 73.833023 , Normalized: 0.753398\n",
            "Running Loss: 71.191078 , Normalized: 0.726440\n",
            "Running Loss: 69.621811 , Normalized: 0.710427\n",
            "Running Loss: 66.680855 , Normalized: 0.680417\n",
            "Finished Training the Target model...\n"
          ],
          "name": "stdout"
        }
      ]
    },
    {
      "cell_type": "code",
      "metadata": {
        "id": "fCKORSk8oamd",
        "colab_type": "code",
        "colab": {}
      },
      "source": [
        "torch.save(target_model.state_dict(), 'checkpoint.pth')"
      ],
      "execution_count": 0,
      "outputs": []
    },
    {
      "cell_type": "code",
      "metadata": {
        "id": "PZW6cKOKobQf",
        "colab_type": "code",
        "colab": {}
      },
      "source": [
        "#state_dict = torch.load('checkpoint.pth')\n",
        "#target_model.load_state_dict(state_dict)"
      ],
      "execution_count": 0,
      "outputs": []
    },
    {
      "cell_type": "code",
      "metadata": {
        "id": "EpY8ktdskRQN",
        "colab_type": "code",
        "outputId": "71c372b0-b2b4-4736-9f5f-466a9462e65e",
        "colab": {
          "base_uri": "https://localhost:8080/",
          "height": 34
        }
      },
      "source": [
        "# calculate the accuracy of the Target Model\n",
        "correct = 0\n",
        "total = 0\n",
        "\n",
        "with torch.no_grad():\n",
        "    for data in target_out_loader:\n",
        "        inputs, labels = data\n",
        "        inputs, labels = inputs.to(device), labels.to(device)\n",
        "        outputs = target_model(inputs)\n",
        "        _, predicted = torch.max(outputs.data, 1)\n",
        "        total += labels.size(0)\n",
        "        correct += (predicted == labels).sum().item()\n",
        "\n",
        "##print(total)\n",
        "print('Accuracy of the network on the 12500 test images: %d %%' % (100 * correct / total))"
      ],
      "execution_count": 12,
      "outputs": [
        {
          "output_type": "stream",
          "text": [
            "Accuracy of the network on the 12500 test images: 70 %\n"
          ],
          "name": "stdout"
        }
      ]
    },
    {
      "cell_type": "markdown",
      "metadata": {
        "id": "IEClKFqikmUl",
        "colab_type": "text"
      },
      "source": [
        "\n",
        "\n",
        "---\n",
        "\n"
      ]
    },
    {
      "cell_type": "code",
      "metadata": {
        "id": "Ha_VqRVVkoCm",
        "colab_type": "code",
        "outputId": "c68179a7-8765-43e9-f341-902a6016b507",
        "colab": {
          "base_uri": "https://localhost:8080/",
          "height": 374
        }
      },
      "source": [
        "# initalize a Shadow Model and Train it\n",
        "# for the first ICP, your shadow model can have the same CNN architecture and hyperparameters\n",
        "\n",
        "shadow_model = CNN()\n",
        "shadow_model.to(device)\n",
        "criterion = nn.CrossEntropyLoss()\n",
        "optimizer = optim.Adam(shadow_model.parameters(), lr = .001)\n",
        "\n",
        "# let the magic begin\n",
        "for epoch in range(epochs):  \n",
        "\n",
        "    running_loss = 0.0\n",
        "    \n",
        "    for i, data in enumerate(shadow_train_loader, 0):\n",
        "        # get the inputs; data is a list of [inputs, labels]\n",
        "        inputs, labels = data\n",
        "        inputs, labels = inputs.to(device), labels.to(device)\n",
        "\n",
        "        # zero the parameter gradients\n",
        "        optimizer.zero_grad()\n",
        "\n",
        "        # forward + backward + optimize\n",
        "        # make a prediction: forward prop\n",
        "        #print(inputs.shape)\n",
        "        outputs = shadow_model(inputs)\n",
        "                       \n",
        "        # calculate loss\n",
        "        loss = criterion(outputs, labels)\n",
        "                       \n",
        "        # backwards propogation\n",
        "        loss.backward()       \n",
        "        \n",
        "       \n",
        "\n",
        "        # calculate gradients\n",
        "        optimizer.step()\n",
        "        # updaate weights in backprop\n",
        "                       \n",
        "                       \n",
        "        running_loss += loss.data\n",
        "        # print statistics\n",
        "        \n",
        "    ##train_accuracy = calculate_accuracy(trainloader)\n",
        "    ##test_accuracy = calculate_accuracy(testloader)\n",
        "    running_loss_normal = running_loss / len(target_train_loader)\n",
        "    print(\"Running Loss: %f , Normalized: %f\" % (running_loss, running_loss_normal))\n",
        "\n",
        "    #print(\"Iteration: {0} | Loss: {1} | Training accuracy: {2}% | Test accuracy: {3}%\".format(epoch+1, running_loss, train_accuracy, test_accuracy))\n",
        "        \n",
        "        \n",
        "\n",
        "\n",
        "print('Finished Training the Shadow model')"
      ],
      "execution_count": 13,
      "outputs": [
        {
          "output_type": "stream",
          "text": [
            "Running Loss: 183.840271 , Normalized: 1.875921\n",
            "Running Loss: 148.404770 , Normalized: 1.514334\n",
            "Running Loss: 134.870834 , Normalized: 1.376233\n",
            "Running Loss: 124.832291 , Normalized: 1.273799\n",
            "Running Loss: 116.009613 , Normalized: 1.183771\n",
            "Running Loss: 108.826576 , Normalized: 1.110475\n",
            "Running Loss: 100.450844 , Normalized: 1.025009\n",
            "Running Loss: 95.483322 , Normalized: 0.974320\n",
            "Running Loss: 90.872208 , Normalized: 0.927267\n",
            "Running Loss: 87.658676 , Normalized: 0.894476\n",
            "Running Loss: 84.434616 , Normalized: 0.861578\n",
            "Running Loss: 80.753304 , Normalized: 0.824013\n",
            "Running Loss: 76.059708 , Normalized: 0.776119\n",
            "Running Loss: 74.161499 , Normalized: 0.756750\n",
            "Running Loss: 72.088226 , Normalized: 0.735594\n",
            "Running Loss: 69.815300 , Normalized: 0.712401\n",
            "Running Loss: 66.955086 , Normalized: 0.683215\n",
            "Running Loss: 66.367058 , Normalized: 0.677215\n",
            "Running Loss: 64.200333 , Normalized: 0.655105\n",
            "Running Loss: 60.304512 , Normalized: 0.615352\n",
            "Finished Training the Shadow model\n"
          ],
          "name": "stdout"
        }
      ]
    },
    {
      "cell_type": "code",
      "metadata": {
        "id": "-e3gk1Qao4rb",
        "colab_type": "code",
        "colab": {}
      },
      "source": [
        "torch.save(shadow_model.state_dict(), 'shadow_checkpoint.pth')"
      ],
      "execution_count": 0,
      "outputs": []
    },
    {
      "cell_type": "code",
      "metadata": {
        "id": "-fmP19JdI4wF",
        "colab_type": "code",
        "colab": {}
      },
      "source": [
        "#state_dict = torch.load('shadow_checkpoint.pth')\n",
        "#target_model.load_state_dict(state_dict)"
      ],
      "execution_count": 0,
      "outputs": []
    },
    {
      "cell_type": "code",
      "metadata": {
        "id": "L0kP_-62ljFE",
        "colab_type": "code",
        "outputId": "83bafd69-e1fe-4c74-c3ed-ff0de6cb375e",
        "colab": {
          "base_uri": "https://localhost:8080/",
          "height": 34
        }
      },
      "source": [
        "# freeze the Shadow model \n",
        "# make predictions on both datasets (shadow_in and shdow_out)\n",
        "# create a new dataset of the shape [predictions(shadow_in), 1], [predicitons(shadow_out), 1] and zip them together\n",
        "correct = 0\n",
        "total = 0\n",
        "\n",
        "#attack_data_set = []\n",
        "\n",
        "with torch.no_grad():\n",
        "    for data in shadow_out_loader:\n",
        "        inputs, labels = data\n",
        "        inputs, labels = inputs.to(device), labels.to(device)\n",
        "        outputs = shadow_model(inputs)\n",
        "        \n",
        "        #attack_data_set.append((outputs, torch.tensor([1.0], requires_grad=True)))\n",
        "        \n",
        "        _, predicted = torch.max(outputs.data, 1)\n",
        "        total += labels.size(0)\n",
        "        correct += (predicted == labels).sum().item()\n",
        "        \n",
        "        \n",
        "    print('Accuracy of the shadow network on the shadow_train_loader: %d %%' % (100 * correct / total))\n",
        " \n",
        "\n"
      ],
      "execution_count": 16,
      "outputs": [
        {
          "output_type": "stream",
          "text": [
            "Accuracy of the shadow network on the shadow_train_loader: 71 %\n"
          ],
          "name": "stdout"
        }
      ]
    },
    {
      "cell_type": "code",
      "metadata": {
        "id": "rQxXd8J9djuN",
        "colab_type": "code",
        "colab": {}
      },
      "source": [
        "shadow_model.eval()\n",
        "\n",
        "for param in shadow_model.parameters():\n",
        "  param.requires_grad = False\n",
        "\n",
        "# make predictions on both datasets (shadow_in and shdow_out)\n",
        "attack_data = []\n",
        "\n",
        "for inputs, labels in shadow_train_loader:\n",
        "  inputs, labels = inputs.to(device), labels.to(device)\n",
        "  predictions = shadow_model(inputs)\n",
        "  \n",
        "  for i in range(predictions.shape[0]):\n",
        "    attack_data.append((predictions[i], 1))\n",
        "  \n",
        "for inputs, labels in shadow_out_loader:\n",
        "  inputs, labels = inputs.to(device), labels.to(device)\n",
        "  predictions = shadow_model(inputs)\n",
        "  \n",
        "  for i in range(predictions.shape[0]):\n",
        "    attack_data.append((predictions[i], 0))"
      ],
      "execution_count": 0,
      "outputs": []
    },
    {
      "cell_type": "code",
      "metadata": {
        "id": "2tyg15oVJUwe",
        "colab_type": "code",
        "colab": {}
      },
      "source": [
        "#print(len(attack_data_set))\n",
        "attack_data_loader = torch.utils.data.DataLoader(attack_data, batch_size=4, shuffle=True)\n",
        "#print(len(attack_data_loader))"
      ],
      "execution_count": 0,
      "outputs": []
    },
    {
      "cell_type": "code",
      "metadata": {
        "id": "UHZg-j0_MfzN",
        "colab_type": "code",
        "outputId": "129b6459-4e4e-4225-b2fe-1fe86b285689",
        "colab": {
          "base_uri": "https://localhost:8080/",
          "height": 51
        }
      },
      "source": [
        "print(len(shadow_train_loader))\n",
        "print(len(shadow_out_loader))"
      ],
      "execution_count": 19,
      "outputs": [
        {
          "output_type": "stream",
          "text": [
            "98\n",
            "196\n"
          ],
          "name": "stdout"
        }
      ]
    },
    {
      "cell_type": "code",
      "metadata": {
        "id": "_ymKnj7QpdDG",
        "colab_type": "code",
        "outputId": "70c0c843-0a2c-4f6f-e354-2051bfb20aee",
        "colab": {
          "base_uri": "https://localhost:8080/",
          "height": 374
        }
      },
      "source": [
        "# create the Attack Model: A NN binary classifier {0, 1}\n",
        "# the input to this model is the propability distribution vector of size 10\n",
        "# and the output is either 0 (input was not included in training) or 1\n",
        "\n",
        "\n",
        "\n",
        "epochs = 20;\n",
        "# Build a feed-forward network\n",
        "attack_model = nn.Sequential(nn.Linear(10, 128),\n",
        "                      nn.ReLU(),\n",
        "                      nn.Linear(128, 64),\n",
        "                      nn.ReLU(),\n",
        "                      nn.Linear(64, 2),\n",
        "                      nn.LogSoftmax(dim=1))\n",
        "\n",
        "\n",
        "attack_model.to(device)\n",
        "# Define the loss\n",
        "criterion = nn.CrossEntropyLoss()\n",
        "optimizer = optim.Adam(attack_model.parameters(), lr=.001)\n",
        "\n",
        "\n",
        "for epoch in range(epochs):  \n",
        "\n",
        "    running_loss = 0.0\n",
        "    count = 0\n",
        "    for i, data in enumerate(attack_data_loader, 0):\n",
        "        # get the inputs; data is a list of [inputs, labels]\n",
        "        inputs, labels = data\n",
        "        inputs, labels = inputs.to(device), labels.to(device)\n",
        "        count +=1\n",
        "        #print(\"Data loader count:  %d\" % count)\n",
        "        # zero the parameter gradients\n",
        "        optimizer.zero_grad()\n",
        "\n",
        "        # forward + backward + optimize\n",
        "        # make a prediction: forward prop\n",
        "        #print(inputs.shape)\n",
        "        outputs = attack_model(inputs)\n",
        "                       \n",
        "        # calculate loss\n",
        "        ##print(outputs)\n",
        "        ##print(labels)\n",
        "        loss = criterion(outputs, labels)\n",
        "                       \n",
        "        # backwards propogation\n",
        "        loss.backward()       \n",
        "        \n",
        "       \n",
        "\n",
        "        # calculate gradients\n",
        "        optimizer.step()\n",
        "        # updaate weights in backprop\n",
        "                       \n",
        "                       \n",
        "        running_loss += loss.data\n",
        "        # print statistics\n",
        "        \n",
        "    ##train_accuracy = calculate_accuracy(trainloader)\n",
        "    ##test_accuracy = calculate_accuracy(testloader)\n",
        "    running_loss_normal = running_loss / len(target_train_loader)\n",
        "    print(\"Running Loss: %f , Normalized: %f\" % (running_loss, running_loss_normal))\n",
        "\n",
        "    #print(\"Iteration: {0} | Loss: {1} | Training accuracy: {2}% | Test accuracy: {3}%\".format(epoch+1, running_loss, train_accuracy, test_accuracy))\n",
        "        \n",
        "        \n",
        "\n",
        "\n",
        "print('Finished Training the Attack Model')\n"
      ],
      "execution_count": 20,
      "outputs": [
        {
          "output_type": "stream",
          "text": [
            "Running Loss: 4304.198242 , Normalized: 43.920391\n",
            "Running Loss: 4229.552734 , Normalized: 43.158699\n",
            "Running Loss: 4203.489746 , Normalized: 42.892750\n",
            "Running Loss: 4182.977051 , Normalized: 42.683437\n",
            "Running Loss: 4166.133789 , Normalized: 42.511570\n",
            "Running Loss: 4155.324219 , Normalized: 42.401268\n",
            "Running Loss: 4139.922852 , Normalized: 42.244110\n",
            "Running Loss: 4134.703613 , Normalized: 42.190853\n",
            "Running Loss: 4122.627441 , Normalized: 42.067627\n",
            "Running Loss: 4118.304688 , Normalized: 42.023518\n",
            "Running Loss: 4100.903320 , Normalized: 41.845951\n",
            "Running Loss: 4095.807373 , Normalized: 41.793953\n",
            "Running Loss: 4089.010254 , Normalized: 41.724594\n",
            "Running Loss: 4086.851807 , Normalized: 41.702568\n",
            "Running Loss: 4077.893799 , Normalized: 41.611160\n",
            "Running Loss: 4067.718262 , Normalized: 41.507328\n",
            "Running Loss: 4061.197266 , Normalized: 41.440788\n",
            "Running Loss: 4059.256592 , Normalized: 41.420986\n",
            "Running Loss: 4049.099365 , Normalized: 41.317341\n",
            "Running Loss: 4049.599609 , Normalized: 41.322445\n",
            "Finished Training the Attack Model\n"
          ],
          "name": "stdout"
        }
      ]
    },
    {
      "cell_type": "code",
      "metadata": {
        "id": "6mn5PgLWo9za",
        "colab_type": "code",
        "colab": {}
      },
      "source": [
        "torch.save(attack_model.state_dict(), 'attack_checkpoint.pth')"
      ],
      "execution_count": 0,
      "outputs": []
    },
    {
      "cell_type": "code",
      "metadata": {
        "id": "YJ07s_NyIdKx",
        "colab_type": "code",
        "colab": {}
      },
      "source": [
        "#state_dict = torch.load('attack_checkpoint.pth')\n",
        "#target_model.load_state_dict(state_dict)"
      ],
      "execution_count": 0,
      "outputs": []
    },
    {
      "cell_type": "code",
      "metadata": {
        "id": "0J1B1OhMp6er",
        "colab_type": "code",
        "colab": {
          "base_uri": "https://localhost:8080/",
          "height": 68
        },
        "outputId": "952248ba-4e08-45b8-efbc-287c28e34141"
      },
      "source": [
        "# calculate the recall and precision of your attack network using the Target_out and Target_in datasets\n",
        "# to do so, take a random numer of datapoints, run them throw the target model,\n",
        "# and then input the output of the target model to your attack network \n",
        "# you already know the target_in and target_out samples, so use that info to evaluate the attack model\n",
        "\n",
        "\n",
        "with torch.no_grad():\n",
        "    for data in target_train_loader:\n",
        "        inputs, labels = data\n",
        "        inputs, labels = inputs.to(device), labels.to(device)\n",
        "        outputs = target_model(inputs)\n",
        "        \n",
        "        ##attack_data_loader.append((outputs, 1))\n",
        "        \n",
        "        _, predicted = torch.max(outputs.data, 1)\n",
        "        total += labels.size(0)\n",
        "        correct += (predicted == labels).sum().item()\n",
        "        \n",
        "        \n",
        "    print('Accuracy of the attack network on the target_train_loader: %d %%' % (100 * correct / total))\n",
        "    out_correct = 0\n",
        "    out_total = 0\n",
        "        \n",
        "    for data in target_out_loader:\n",
        "        inputs, labels = data\n",
        "        inputs, labels = inputs.to(device), labels.to(device)\n",
        "        outputs = target_model(inputs)\n",
        "        \n",
        "        ##attack_data_loader.append((outputs, 0))\n",
        "        \n",
        "        _, predicted = torch.max(outputs.data, 1)\n",
        "        out_total += labels.size(0)\n",
        "        out_correct += (predicted == labels).sum().item()\n",
        "\n",
        "    print('Accuracy of the attack network on the target_out_loader: %d %%' % (100 * out_correct / out_total))\n",
        "    \n",
        "    correct += out_correct\n",
        "    total += out_total\n",
        "    print('Total accuracy of the attack network: %d %%' % (100 * out_correct / out_total))\n"
      ],
      "execution_count": 23,
      "outputs": [
        {
          "output_type": "stream",
          "text": [
            "Accuracy of the attack network on the target_train_loader: 74 %\n",
            "Accuracy of the attack network on the target_out_loader: 70 %\n",
            "Total accuracy of the attack network: 70 %\n"
          ],
          "name": "stdout"
        }
      ]
    },
    {
      "cell_type": "code",
      "metadata": {
        "id": "Z2w1eRMjMVw5",
        "colab_type": "code",
        "colab": {}
      },
      "source": [
        "# calculate the recall and precision of your attack network using the Target_out and Target_in datasets\n",
        "# to do so, take a random numer of datapoints, run them throw the target model,\n",
        "# and then input the output of the target model to your attack network \n",
        "# you already know the target_in and target_out samples, so use that info to evaluate the attack model\n",
        "\n",
        "\n",
        "# Run attack agains the target model\n",
        "actual_value = []\n",
        "pred_value = []\n",
        "\n",
        "attack_model.eval()\n",
        "\n",
        "for param in attack_model.parameters():\n",
        "  param.requires_grad = False\n",
        "\n",
        "for inputs, labels in target_train_loader:\n",
        "  inputs, labels = inputs.to(device), labels.to(device)\n",
        "  \n",
        "  # Get probability output of target model\n",
        "  output = target_model(inputs)\n",
        "  \n",
        "  # Run through attack model\n",
        "  pred = attack_model(output)\n",
        "  \n",
        "  # Pull out top class\n",
        "  top_p, top_class = pred.topk(1, dim=1)\n",
        "  \n",
        "  for i in range(top_class.shape[0]):\n",
        "    pred_value.append(top_class[0].item())\n",
        "    actual_value.append(1)\n",
        "    \n",
        "for inputs, labels in target_out_loader:\n",
        "  inputs, labels = inputs.to(device), labels.to(device)\n",
        "  \n",
        "  # Get probability output of target model\n",
        "  output = target_model(inputs)\n",
        "  \n",
        "  # Run through attack model\n",
        "  pred = attack_model(output)\n",
        "  \n",
        "  # Pull out top class\n",
        "  top_p, top_class = pred.topk(1, dim=1)\n",
        "  \n",
        "  for i in range(top_class.shape[0]):\n",
        "    pred_value.append(top_class[0].item())\n",
        "    actual_value.append(0)\n"
      ],
      "execution_count": 0,
      "outputs": []
    },
    {
      "cell_type": "code",
      "metadata": {
        "id": "JNXD6hf_MafB",
        "colab_type": "code",
        "colab": {}
      },
      "source": [
        "#for i in range(len(actual_value)):\n",
        " # print(\"Actual: {}   Prediction: {}\".format(actual_value[i], pred_value[i]))"
      ],
      "execution_count": 0,
      "outputs": []
    },
    {
      "cell_type": "code",
      "metadata": {
        "id": "rCeG4rQBMVtu",
        "colab_type": "code",
        "outputId": "5e4e7d1e-fd49-454b-a128-8d81ad3b735d",
        "colab": {
          "base_uri": "https://localhost:8080/",
          "height": 51
        }
      },
      "source": [
        "# Calculate recall and precision\n",
        "# precison = true positive / true positive + false positive\n",
        "true_pos = 0\n",
        "false_neg = 0\n",
        "\n",
        "total_positive = sum(pred_value)\n",
        "for i in range(len(actual_value)):\n",
        "  if (pred_value[i] == 1) and (actual_value[i] == 1):\n",
        "    true_pos += 1\n",
        "  elif (pred_value[i] == 0 and actual_value[i] == 1):\n",
        "    false_neg += 1\n",
        "    \n",
        "print('True positive: {} Total Positive: {} Precision: {}'.format(true_pos, total_positive, true_pos / total_positive))\n",
        "print('Recall: {}', true_pos / (true_pos + false_neg))"
      ],
      "execution_count": 26,
      "outputs": [
        {
          "output_type": "stream",
          "text": [
            "True positive: 11220 Total Positive: 21800 Precision: 0.5146788990825688\n",
            "Recall: {} 0.8976\n"
          ],
          "name": "stdout"
        }
      ]
    },
    {
      "cell_type": "markdown",
      "metadata": {
        "id": "XMsyCgziqeaa",
        "colab_type": "text"
      },
      "source": [
        "Great! At this point, you must have created a succesfful attack model that can detect whether a datapoint was used in training a target mode or not. \n",
        "* A successful attack model is one with a precision/recall higher than 85% -- you are using same architecture and are aware of the data classes\n",
        "\n",
        " \n",
        " Can you suggest any defense mechanism? If yes, Apply them to your solution and re-evaluate your attack model. How did your defense mecanism affect the accuracy of the target model? How did it affect the recall and precision of the Attack model?"
      ]
    }
  ]
}